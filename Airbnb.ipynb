{
 "cells": [
  {
   "cell_type": "code",
   "execution_count": 776,
   "metadata": {},
   "outputs": [],
   "source": [
    "import pandas as pd\n",
    "import numpy as np\n",
    "import seaborn as sb\n",
    "import matplotlib.pyplot as plt\n",
    "\n",
    "%matplotlib inline"
   ]
  },
  {
   "cell_type": "code",
   "execution_count": 777,
   "metadata": {},
   "outputs": [],
   "source": [
    "df_contacts = pd.read_csv('contacts.csv')\n",
    "df_listings = pd.read_csv('listings.csv')\n",
    "df_users = pd.read_csv('users.csv')"
   ]
  },
  {
   "cell_type": "code",
   "execution_count": 778,
   "metadata": {},
   "outputs": [
    {
     "data": {
      "text/html": [
       "<div>\n",
       "<style scoped>\n",
       "    .dataframe tbody tr th:only-of-type {\n",
       "        vertical-align: middle;\n",
       "    }\n",
       "\n",
       "    .dataframe tbody tr th {\n",
       "        vertical-align: top;\n",
       "    }\n",
       "\n",
       "    .dataframe thead th {\n",
       "        text-align: right;\n",
       "    }\n",
       "</style>\n",
       "<table border=\"1\" class=\"dataframe\">\n",
       "  <thead>\n",
       "    <tr style=\"text-align: right;\">\n",
       "      <th></th>\n",
       "      <th>id_guest_anon</th>\n",
       "      <th>id_host_anon</th>\n",
       "      <th>id_listing_anon</th>\n",
       "      <th>ts_interaction_first</th>\n",
       "      <th>ts_reply_at_first</th>\n",
       "      <th>ts_accepted_at_first</th>\n",
       "      <th>ts_booking_at</th>\n",
       "      <th>ds_checkin_first</th>\n",
       "      <th>ds_checkout_first</th>\n",
       "      <th>m_guests</th>\n",
       "      <th>m_interactions</th>\n",
       "      <th>m_first_message_length_in_characters</th>\n",
       "      <th>contact_channel_first</th>\n",
       "      <th>guest_user_stage_first</th>\n",
       "    </tr>\n",
       "  </thead>\n",
       "  <tbody>\n",
       "    <tr>\n",
       "      <th>0</th>\n",
       "      <td>da8656a1-51af-4f38-b1c4-94be1f585157</td>\n",
       "      <td>5426897d-960d-4013-9e38-606ae746793c</td>\n",
       "      <td>a408a8b2-0d44-4513-a611-3736d0409bb2</td>\n",
       "      <td>2016-04-21 02:55:53</td>\n",
       "      <td>2016-04-21 03:15:00.0</td>\n",
       "      <td>2016-04-21 03:15:00.0</td>\n",
       "      <td>2016-04-21 03:15:00.0</td>\n",
       "      <td>2016-08-02</td>\n",
       "      <td>2016-08-06</td>\n",
       "      <td>4.0</td>\n",
       "      <td>30</td>\n",
       "      <td>31.0</td>\n",
       "      <td>book_it</td>\n",
       "      <td>past_booker</td>\n",
       "    </tr>\n",
       "    <tr>\n",
       "      <th>1</th>\n",
       "      <td>8590d6f1-8bc9-4e8b-bdfb-de78f69fcf37</td>\n",
       "      <td>f30417c5-6df4-45ac-bfc2-6ad1cce398ab</td>\n",
       "      <td>e387c705-0aeb-464c-9375-ece63be6f006</td>\n",
       "      <td>2016-02-16 22:14:01</td>\n",
       "      <td>2016-02-16 23:37:36.0</td>\n",
       "      <td>NaN</td>\n",
       "      <td>NaN</td>\n",
       "      <td>2016-08-11</td>\n",
       "      <td>2016-08-22</td>\n",
       "      <td>5.0</td>\n",
       "      <td>2</td>\n",
       "      <td>312.0</td>\n",
       "      <td>contact_me</td>\n",
       "      <td>past_booker</td>\n",
       "    </tr>\n",
       "    <tr>\n",
       "      <th>2</th>\n",
       "      <td>ebcd83ba-bda1-47eb-9680-2dd04ccf3988</td>\n",
       "      <td>13cbf50a-3272-45d4-9866-a06b6ea1b99a</td>\n",
       "      <td>d1eb1960-938f-4305-a353-51e224414dd4</td>\n",
       "      <td>2016-01-27 23:33:38</td>\n",
       "      <td>2016-01-28 02:12:47.0</td>\n",
       "      <td>NaN</td>\n",
       "      <td>NaN</td>\n",
       "      <td>2016-03-14</td>\n",
       "      <td>2016-03-23</td>\n",
       "      <td>1.0</td>\n",
       "      <td>3</td>\n",
       "      <td>164.0</td>\n",
       "      <td>contact_me</td>\n",
       "      <td>new</td>\n",
       "    </tr>\n",
       "    <tr>\n",
       "      <th>3</th>\n",
       "      <td>b0af8848-fe2a-4ef1-991e-26ab3066feb3</td>\n",
       "      <td>01614601-d5a4-4776-ab9b-c10d3b865bf0</td>\n",
       "      <td>855f6779-346c-45fc-a64b-ea133250ca7a</td>\n",
       "      <td>2016-05-05 14:42:52</td>\n",
       "      <td>2016-05-05 15:17:40.0</td>\n",
       "      <td>2016-05-05 15:17:40.0</td>\n",
       "      <td>NaN</td>\n",
       "      <td>2016-05-27</td>\n",
       "      <td>2016-05-29</td>\n",
       "      <td>2.0</td>\n",
       "      <td>3</td>\n",
       "      <td>203.0</td>\n",
       "      <td>contact_me</td>\n",
       "      <td>new</td>\n",
       "    </tr>\n",
       "    <tr>\n",
       "      <th>4</th>\n",
       "      <td>5ddbbcc3-ac1a-4d8a-b6f8-0f675b76d1b2</td>\n",
       "      <td>f2fed6f3-4c5c-453d-9e64-37c62b8bd06d</td>\n",
       "      <td>f2928a59-c5e7-42b2-9c37-240a40f38dc0</td>\n",
       "      <td>2016-06-23 03:09:25.0</td>\n",
       "      <td>2016-06-23 03:09:26.0</td>\n",
       "      <td>2016-06-23 03:09:33.0</td>\n",
       "      <td>2016-06-23 03:09:33.0</td>\n",
       "      <td>2016-08-19</td>\n",
       "      <td>2016-08-21</td>\n",
       "      <td>3.0</td>\n",
       "      <td>25</td>\n",
       "      <td>0.0</td>\n",
       "      <td>instant_book</td>\n",
       "      <td>past_booker</td>\n",
       "    </tr>\n",
       "  </tbody>\n",
       "</table>\n",
       "</div>"
      ],
      "text/plain": [
       "                          id_guest_anon                          id_host_anon  \\\n",
       "0  da8656a1-51af-4f38-b1c4-94be1f585157  5426897d-960d-4013-9e38-606ae746793c   \n",
       "1  8590d6f1-8bc9-4e8b-bdfb-de78f69fcf37  f30417c5-6df4-45ac-bfc2-6ad1cce398ab   \n",
       "2  ebcd83ba-bda1-47eb-9680-2dd04ccf3988  13cbf50a-3272-45d4-9866-a06b6ea1b99a   \n",
       "3  b0af8848-fe2a-4ef1-991e-26ab3066feb3  01614601-d5a4-4776-ab9b-c10d3b865bf0   \n",
       "4  5ddbbcc3-ac1a-4d8a-b6f8-0f675b76d1b2  f2fed6f3-4c5c-453d-9e64-37c62b8bd06d   \n",
       "\n",
       "                        id_listing_anon   ts_interaction_first  \\\n",
       "0  a408a8b2-0d44-4513-a611-3736d0409bb2    2016-04-21 02:55:53   \n",
       "1  e387c705-0aeb-464c-9375-ece63be6f006    2016-02-16 22:14:01   \n",
       "2  d1eb1960-938f-4305-a353-51e224414dd4    2016-01-27 23:33:38   \n",
       "3  855f6779-346c-45fc-a64b-ea133250ca7a    2016-05-05 14:42:52   \n",
       "4  f2928a59-c5e7-42b2-9c37-240a40f38dc0  2016-06-23 03:09:25.0   \n",
       "\n",
       "       ts_reply_at_first   ts_accepted_at_first          ts_booking_at  \\\n",
       "0  2016-04-21 03:15:00.0  2016-04-21 03:15:00.0  2016-04-21 03:15:00.0   \n",
       "1  2016-02-16 23:37:36.0                    NaN                    NaN   \n",
       "2  2016-01-28 02:12:47.0                    NaN                    NaN   \n",
       "3  2016-05-05 15:17:40.0  2016-05-05 15:17:40.0                    NaN   \n",
       "4  2016-06-23 03:09:26.0  2016-06-23 03:09:33.0  2016-06-23 03:09:33.0   \n",
       "\n",
       "  ds_checkin_first ds_checkout_first  m_guests  m_interactions  \\\n",
       "0       2016-08-02        2016-08-06       4.0              30   \n",
       "1       2016-08-11        2016-08-22       5.0               2   \n",
       "2       2016-03-14        2016-03-23       1.0               3   \n",
       "3       2016-05-27        2016-05-29       2.0               3   \n",
       "4       2016-08-19        2016-08-21       3.0              25   \n",
       "\n",
       "   m_first_message_length_in_characters contact_channel_first  \\\n",
       "0                                  31.0               book_it   \n",
       "1                                 312.0            contact_me   \n",
       "2                                 164.0            contact_me   \n",
       "3                                 203.0            contact_me   \n",
       "4                                   0.0          instant_book   \n",
       "\n",
       "  guest_user_stage_first  \n",
       "0            past_booker  \n",
       "1            past_booker  \n",
       "2                    new  \n",
       "3                    new  \n",
       "4            past_booker  "
      ]
     },
     "execution_count": 778,
     "metadata": {},
     "output_type": "execute_result"
    }
   ],
   "source": [
    "df_contacts.head()"
   ]
  },
  {
   "cell_type": "code",
   "execution_count": 779,
   "metadata": {},
   "outputs": [
    {
     "data": {
      "text/plain": [
       "id_guest_anon                            object\n",
       "id_host_anon                             object\n",
       "id_listing_anon                          object\n",
       "ts_interaction_first                     object\n",
       "ts_reply_at_first                        object\n",
       "ts_accepted_at_first                     object\n",
       "ts_booking_at                            object\n",
       "ds_checkin_first                         object\n",
       "ds_checkout_first                        object\n",
       "m_guests                                float64\n",
       "m_interactions                            int64\n",
       "m_first_message_length_in_characters    float64\n",
       "contact_channel_first                    object\n",
       "guest_user_stage_first                   object\n",
       "dtype: object"
      ]
     },
     "execution_count": 779,
     "metadata": {},
     "output_type": "execute_result"
    }
   ],
   "source": [
    "df_contacts.dtypes"
   ]
  },
  {
   "cell_type": "code",
   "execution_count": 780,
   "metadata": {},
   "outputs": [],
   "source": [
    "df_contacts.iloc[:, 3:9] = df_contacts.iloc[:, 3:9].apply(pd.to_datetime, errors='coerce', \n",
    "                                                          infer_datetime_format = True)"
   ]
  },
  {
   "cell_type": "code",
   "execution_count": 781,
   "metadata": {},
   "outputs": [
    {
     "data": {
      "text/plain": [
       "id_guest_anon                                   object\n",
       "id_host_anon                                    object\n",
       "id_listing_anon                                 object\n",
       "ts_interaction_first                    datetime64[ns]\n",
       "ts_reply_at_first                       datetime64[ns]\n",
       "ts_accepted_at_first                    datetime64[ns]\n",
       "ts_booking_at                           datetime64[ns]\n",
       "ds_checkin_first                        datetime64[ns]\n",
       "ds_checkout_first                       datetime64[ns]\n",
       "m_guests                                       float64\n",
       "m_interactions                                   int64\n",
       "m_first_message_length_in_characters           float64\n",
       "contact_channel_first                           object\n",
       "guest_user_stage_first                          object\n",
       "dtype: object"
      ]
     },
     "execution_count": 781,
     "metadata": {},
     "output_type": "execute_result"
    }
   ],
   "source": [
    "df_contacts.dtypes"
   ]
  },
  {
   "cell_type": "code",
   "execution_count": 782,
   "metadata": {},
   "outputs": [
    {
     "data": {
      "text/plain": [
       "(27887, 14)"
      ]
     },
     "execution_count": 782,
     "metadata": {},
     "output_type": "execute_result"
    }
   ],
   "source": [
    "df_contacts.shape"
   ]
  },
  {
   "cell_type": "code",
   "execution_count": 783,
   "metadata": {},
   "outputs": [
    {
     "data": {
      "text/plain": [
       "id_guest_anon                               0\n",
       "id_host_anon                                0\n",
       "id_listing_anon                             0\n",
       "ts_interaction_first                        0\n",
       "ts_reply_at_first                        2032\n",
       "ts_accepted_at_first                    11472\n",
       "ts_booking_at                           16300\n",
       "ds_checkin_first                            0\n",
       "ds_checkout_first                           0\n",
       "m_guests                                    1\n",
       "m_interactions                              0\n",
       "m_first_message_length_in_characters        0\n",
       "contact_channel_first                       0\n",
       "guest_user_stage_first                      0\n",
       "dtype: int64"
      ]
     },
     "execution_count": 783,
     "metadata": {},
     "output_type": "execute_result"
    }
   ],
   "source": [
    "df_contacts.isnull().sum() \n",
    "#seems like there are no nulls because of any data quality issue except one row where m_guests is null"
   ]
  },
  {
   "cell_type": "code",
   "execution_count": 784,
   "metadata": {},
   "outputs": [
    {
     "data": {
      "text/html": [
       "<div>\n",
       "<style scoped>\n",
       "    .dataframe tbody tr th:only-of-type {\n",
       "        vertical-align: middle;\n",
       "    }\n",
       "\n",
       "    .dataframe tbody tr th {\n",
       "        vertical-align: top;\n",
       "    }\n",
       "\n",
       "    .dataframe thead th {\n",
       "        text-align: right;\n",
       "    }\n",
       "</style>\n",
       "<table border=\"1\" class=\"dataframe\">\n",
       "  <thead>\n",
       "    <tr style=\"text-align: right;\">\n",
       "      <th></th>\n",
       "      <th>id_guest_anon</th>\n",
       "      <th>id_host_anon</th>\n",
       "      <th>id_listing_anon</th>\n",
       "      <th>ts_interaction_first</th>\n",
       "      <th>ts_reply_at_first</th>\n",
       "      <th>ts_accepted_at_first</th>\n",
       "      <th>ts_booking_at</th>\n",
       "      <th>ds_checkin_first</th>\n",
       "      <th>ds_checkout_first</th>\n",
       "      <th>m_guests</th>\n",
       "      <th>m_interactions</th>\n",
       "      <th>m_first_message_length_in_characters</th>\n",
       "      <th>contact_channel_first</th>\n",
       "      <th>guest_user_stage_first</th>\n",
       "    </tr>\n",
       "  </thead>\n",
       "  <tbody>\n",
       "    <tr>\n",
       "      <th>24738</th>\n",
       "      <td>abc1b137-28b0-4337-a93c-ed77c16f49d8</td>\n",
       "      <td>1a260779-97eb-4c3f-a020-c09a094033a4</td>\n",
       "      <td>f4ada617-3298-4c78-97ee-104edd981e09</td>\n",
       "      <td>2016-01-11 12:08:54</td>\n",
       "      <td>2016-01-12 17:48:59</td>\n",
       "      <td>NaT</td>\n",
       "      <td>NaT</td>\n",
       "      <td>2016-01-22</td>\n",
       "      <td>2016-01-25</td>\n",
       "      <td>NaN</td>\n",
       "      <td>3</td>\n",
       "      <td>134.0</td>\n",
       "      <td>contact_me</td>\n",
       "      <td>past_booker</td>\n",
       "    </tr>\n",
       "  </tbody>\n",
       "</table>\n",
       "</div>"
      ],
      "text/plain": [
       "                              id_guest_anon  \\\n",
       "24738  abc1b137-28b0-4337-a93c-ed77c16f49d8   \n",
       "\n",
       "                               id_host_anon  \\\n",
       "24738  1a260779-97eb-4c3f-a020-c09a094033a4   \n",
       "\n",
       "                            id_listing_anon ts_interaction_first  \\\n",
       "24738  f4ada617-3298-4c78-97ee-104edd981e09  2016-01-11 12:08:54   \n",
       "\n",
       "        ts_reply_at_first ts_accepted_at_first ts_booking_at ds_checkin_first  \\\n",
       "24738 2016-01-12 17:48:59                  NaT           NaT       2016-01-22   \n",
       "\n",
       "      ds_checkout_first  m_guests  m_interactions  \\\n",
       "24738        2016-01-25       NaN               3   \n",
       "\n",
       "       m_first_message_length_in_characters contact_channel_first  \\\n",
       "24738                                 134.0            contact_me   \n",
       "\n",
       "      guest_user_stage_first  \n",
       "24738            past_booker  "
      ]
     },
     "execution_count": 784,
     "metadata": {},
     "output_type": "execute_result"
    }
   ],
   "source": [
    "df_contacts[df_contacts['m_guests'].isnull()]"
   ]
  },
  {
   "cell_type": "code",
   "execution_count": 785,
   "metadata": {},
   "outputs": [
    {
     "data": {
      "text/html": [
       "<div>\n",
       "<style scoped>\n",
       "    .dataframe tbody tr th:only-of-type {\n",
       "        vertical-align: middle;\n",
       "    }\n",
       "\n",
       "    .dataframe tbody tr th {\n",
       "        vertical-align: top;\n",
       "    }\n",
       "\n",
       "    .dataframe thead th {\n",
       "        text-align: right;\n",
       "    }\n",
       "</style>\n",
       "<table border=\"1\" class=\"dataframe\">\n",
       "  <thead>\n",
       "    <tr style=\"text-align: right;\">\n",
       "      <th></th>\n",
       "      <th>id_guest_anon</th>\n",
       "      <th>id_host_anon</th>\n",
       "      <th>id_listing_anon</th>\n",
       "      <th>ts_interaction_first</th>\n",
       "      <th>ts_reply_at_first</th>\n",
       "      <th>ts_accepted_at_first</th>\n",
       "      <th>ts_booking_at</th>\n",
       "      <th>ds_checkin_first</th>\n",
       "      <th>ds_checkout_first</th>\n",
       "      <th>m_guests</th>\n",
       "      <th>m_interactions</th>\n",
       "      <th>m_first_message_length_in_characters</th>\n",
       "      <th>contact_channel_first</th>\n",
       "      <th>guest_user_stage_first</th>\n",
       "    </tr>\n",
       "  </thead>\n",
       "  <tbody>\n",
       "    <tr>\n",
       "      <th>24738</th>\n",
       "      <td>abc1b137-28b0-4337-a93c-ed77c16f49d8</td>\n",
       "      <td>1a260779-97eb-4c3f-a020-c09a094033a4</td>\n",
       "      <td>f4ada617-3298-4c78-97ee-104edd981e09</td>\n",
       "      <td>2016-01-11 12:08:54</td>\n",
       "      <td>2016-01-12 17:48:59</td>\n",
       "      <td>NaT</td>\n",
       "      <td>NaT</td>\n",
       "      <td>2016-01-22</td>\n",
       "      <td>2016-01-25</td>\n",
       "      <td>NaN</td>\n",
       "      <td>3</td>\n",
       "      <td>134.0</td>\n",
       "      <td>contact_me</td>\n",
       "      <td>past_booker</td>\n",
       "    </tr>\n",
       "  </tbody>\n",
       "</table>\n",
       "</div>"
      ],
      "text/plain": [
       "                              id_guest_anon  \\\n",
       "24738  abc1b137-28b0-4337-a93c-ed77c16f49d8   \n",
       "\n",
       "                               id_host_anon  \\\n",
       "24738  1a260779-97eb-4c3f-a020-c09a094033a4   \n",
       "\n",
       "                            id_listing_anon ts_interaction_first  \\\n",
       "24738  f4ada617-3298-4c78-97ee-104edd981e09  2016-01-11 12:08:54   \n",
       "\n",
       "        ts_reply_at_first ts_accepted_at_first ts_booking_at ds_checkin_first  \\\n",
       "24738 2016-01-12 17:48:59                  NaT           NaT       2016-01-22   \n",
       "\n",
       "      ds_checkout_first  m_guests  m_interactions  \\\n",
       "24738        2016-01-25       NaN               3   \n",
       "\n",
       "       m_first_message_length_in_characters contact_channel_first  \\\n",
       "24738                                 134.0            contact_me   \n",
       "\n",
       "      guest_user_stage_first  \n",
       "24738            past_booker  "
      ]
     },
     "execution_count": 785,
     "metadata": {},
     "output_type": "execute_result"
    }
   ],
   "source": [
    "#let us check if there are other inquiries by the same guest\n",
    "df_contacts[df_contacts['id_guest_anon'] == 'abc1b137-28b0-4337-a93c-ed77c16f49d8']"
   ]
  },
  {
   "cell_type": "code",
   "execution_count": 786,
   "metadata": {},
   "outputs": [
    {
     "data": {
      "text/plain": [
       "Timestamp('2016-06-30 23:58:14')"
      ]
     },
     "execution_count": 786,
     "metadata": {},
     "output_type": "execute_result"
    }
   ],
   "source": [
    "np.max(df_contacts['ts_interaction_first'])"
   ]
  },
  {
   "cell_type": "code",
   "execution_count": 787,
   "metadata": {},
   "outputs": [
    {
     "data": {
      "text/plain": [
       "Timestamp('2016-01-01 00:46:47')"
      ]
     },
     "execution_count": 787,
     "metadata": {},
     "output_type": "execute_result"
    }
   ],
   "source": [
    "np.min(df_contacts['ts_interaction_first'])\n",
    "#data from Jan-Jun of 2016 is given to us"
   ]
  },
  {
   "cell_type": "code",
   "execution_count": 788,
   "metadata": {},
   "outputs": [
    {
     "data": {
      "text/plain": [
       "Timestamp('2018-05-01 00:00:00')"
      ]
     },
     "execution_count": 788,
     "metadata": {},
     "output_type": "execute_result"
    }
   ],
   "source": [
    "np.max(df_contacts['ds_checkin_first'])"
   ]
  },
  {
   "cell_type": "code",
   "execution_count": 789,
   "metadata": {},
   "outputs": [
    {
     "data": {
      "text/plain": [
       "Timestamp('2016-01-01 00:00:00')"
      ]
     },
     "execution_count": 789,
     "metadata": {},
     "output_type": "execute_result"
    }
   ],
   "source": [
    "np.min(df_contacts['ds_checkin_first'])"
   ]
  },
  {
   "cell_type": "code",
   "execution_count": 790,
   "metadata": {},
   "outputs": [],
   "source": [
    "#let's get columns for checking if month, day of the moth or day of the week has any correlation with bookings or dropoffs\n",
    "df_contacts['checkin_month'] = df_contacts['ds_checkin_first'].dt.month\n",
    "df_contacts['checkin_day'] = df_contacts['ds_checkin_first'].dt.day\n",
    "df_contacts['checkin_day_of_week'] = df_contacts['ds_checkin_first'].dt.dayofweek"
   ]
  },
  {
   "cell_type": "code",
   "execution_count": 791,
   "metadata": {},
   "outputs": [
    {
     "data": {
      "text/plain": [
       "(11587, 17)"
      ]
     },
     "execution_count": 791,
     "metadata": {},
     "output_type": "execute_result"
    }
   ],
   "source": [
    "df_bookings = df_contacts[df_contacts.ts_booking_at.notnull()]\n",
    "df_bookings.shape"
   ]
  },
  {
   "cell_type": "code",
   "execution_count": 792,
   "metadata": {},
   "outputs": [
    {
     "data": {
      "text/plain": [
       "(16300, 17)"
      ]
     },
     "execution_count": 792,
     "metadata": {},
     "output_type": "execute_result"
    }
   ],
   "source": [
    "df_dropoffs = df_contacts[df_contacts.ts_booking_at.isnull()]\n",
    "df_dropoffs.shape"
   ]
  },
  {
   "cell_type": "code",
   "execution_count": 793,
   "metadata": {},
   "outputs": [
    {
     "data": {
      "text/html": [
       "<div>\n",
       "<style scoped>\n",
       "    .dataframe tbody tr th:only-of-type {\n",
       "        vertical-align: middle;\n",
       "    }\n",
       "\n",
       "    .dataframe tbody tr th {\n",
       "        vertical-align: top;\n",
       "    }\n",
       "\n",
       "    .dataframe thead th {\n",
       "        text-align: right;\n",
       "    }\n",
       "</style>\n",
       "<table border=\"1\" class=\"dataframe\">\n",
       "  <thead>\n",
       "    <tr style=\"text-align: right;\">\n",
       "      <th></th>\n",
       "      <th>id_guest_anon</th>\n",
       "      <th>id_host_anon</th>\n",
       "      <th>id_listing_anon</th>\n",
       "      <th>ts_interaction_first</th>\n",
       "      <th>ts_reply_at_first</th>\n",
       "      <th>ts_accepted_at_first</th>\n",
       "      <th>ts_booking_at</th>\n",
       "      <th>ds_checkin_first</th>\n",
       "      <th>ds_checkout_first</th>\n",
       "      <th>m_guests</th>\n",
       "      <th>m_interactions</th>\n",
       "      <th>m_first_message_length_in_characters</th>\n",
       "      <th>contact_channel_first</th>\n",
       "      <th>guest_user_stage_first</th>\n",
       "      <th>checkin_month</th>\n",
       "      <th>checkin_day</th>\n",
       "      <th>checkin_day_of_week</th>\n",
       "    </tr>\n",
       "  </thead>\n",
       "  <tbody>\n",
       "    <tr>\n",
       "      <th>1</th>\n",
       "      <td>8590d6f1-8bc9-4e8b-bdfb-de78f69fcf37</td>\n",
       "      <td>f30417c5-6df4-45ac-bfc2-6ad1cce398ab</td>\n",
       "      <td>e387c705-0aeb-464c-9375-ece63be6f006</td>\n",
       "      <td>2016-02-16 22:14:01</td>\n",
       "      <td>2016-02-16 23:37:36</td>\n",
       "      <td>NaT</td>\n",
       "      <td>NaT</td>\n",
       "      <td>2016-08-11</td>\n",
       "      <td>2016-08-22</td>\n",
       "      <td>5.0</td>\n",
       "      <td>2</td>\n",
       "      <td>312.0</td>\n",
       "      <td>contact_me</td>\n",
       "      <td>past_booker</td>\n",
       "      <td>8</td>\n",
       "      <td>11</td>\n",
       "      <td>3</td>\n",
       "    </tr>\n",
       "    <tr>\n",
       "      <th>2</th>\n",
       "      <td>ebcd83ba-bda1-47eb-9680-2dd04ccf3988</td>\n",
       "      <td>13cbf50a-3272-45d4-9866-a06b6ea1b99a</td>\n",
       "      <td>d1eb1960-938f-4305-a353-51e224414dd4</td>\n",
       "      <td>2016-01-27 23:33:38</td>\n",
       "      <td>2016-01-28 02:12:47</td>\n",
       "      <td>NaT</td>\n",
       "      <td>NaT</td>\n",
       "      <td>2016-03-14</td>\n",
       "      <td>2016-03-23</td>\n",
       "      <td>1.0</td>\n",
       "      <td>3</td>\n",
       "      <td>164.0</td>\n",
       "      <td>contact_me</td>\n",
       "      <td>new</td>\n",
       "      <td>3</td>\n",
       "      <td>14</td>\n",
       "      <td>0</td>\n",
       "    </tr>\n",
       "    <tr>\n",
       "      <th>3</th>\n",
       "      <td>b0af8848-fe2a-4ef1-991e-26ab3066feb3</td>\n",
       "      <td>01614601-d5a4-4776-ab9b-c10d3b865bf0</td>\n",
       "      <td>855f6779-346c-45fc-a64b-ea133250ca7a</td>\n",
       "      <td>2016-05-05 14:42:52</td>\n",
       "      <td>2016-05-05 15:17:40</td>\n",
       "      <td>2016-05-05 15:17:40</td>\n",
       "      <td>NaT</td>\n",
       "      <td>2016-05-27</td>\n",
       "      <td>2016-05-29</td>\n",
       "      <td>2.0</td>\n",
       "      <td>3</td>\n",
       "      <td>203.0</td>\n",
       "      <td>contact_me</td>\n",
       "      <td>new</td>\n",
       "      <td>5</td>\n",
       "      <td>27</td>\n",
       "      <td>4</td>\n",
       "    </tr>\n",
       "    <tr>\n",
       "      <th>5</th>\n",
       "      <td>25940fca-7aa9-480d-9cf0-56cc1136d30c</td>\n",
       "      <td>90334ef3-f489-45a0-89e0-d18d370e4a1c</td>\n",
       "      <td>5dd24057-774c-45b3-b305-ebf664246952</td>\n",
       "      <td>2016-04-19 07:08:21</td>\n",
       "      <td>2016-04-19 11:32:23</td>\n",
       "      <td>NaT</td>\n",
       "      <td>NaT</td>\n",
       "      <td>2016-04-26</td>\n",
       "      <td>2016-05-01</td>\n",
       "      <td>1.0</td>\n",
       "      <td>7</td>\n",
       "      <td>348.0</td>\n",
       "      <td>contact_me</td>\n",
       "      <td>new</td>\n",
       "      <td>4</td>\n",
       "      <td>26</td>\n",
       "      <td>1</td>\n",
       "    </tr>\n",
       "    <tr>\n",
       "      <th>6</th>\n",
       "      <td>ee6633e1-96de-47f6-96e7-d962fc6db7dd</td>\n",
       "      <td>10dc3fc4-694f-44b2-aaac-9dbace0ebabd</td>\n",
       "      <td>259d4a6c-dcda-4ff2-85cb-2882f6801b3a</td>\n",
       "      <td>2016-05-30 15:16:21</td>\n",
       "      <td>2016-05-30 15:18:55</td>\n",
       "      <td>2016-06-01 23:38:20</td>\n",
       "      <td>NaT</td>\n",
       "      <td>2016-08-06</td>\n",
       "      <td>2016-08-14</td>\n",
       "      <td>6.0</td>\n",
       "      <td>7</td>\n",
       "      <td>29.0</td>\n",
       "      <td>contact_me</td>\n",
       "      <td>past_booker</td>\n",
       "      <td>8</td>\n",
       "      <td>6</td>\n",
       "      <td>5</td>\n",
       "    </tr>\n",
       "  </tbody>\n",
       "</table>\n",
       "</div>"
      ],
      "text/plain": [
       "                          id_guest_anon                          id_host_anon  \\\n",
       "1  8590d6f1-8bc9-4e8b-bdfb-de78f69fcf37  f30417c5-6df4-45ac-bfc2-6ad1cce398ab   \n",
       "2  ebcd83ba-bda1-47eb-9680-2dd04ccf3988  13cbf50a-3272-45d4-9866-a06b6ea1b99a   \n",
       "3  b0af8848-fe2a-4ef1-991e-26ab3066feb3  01614601-d5a4-4776-ab9b-c10d3b865bf0   \n",
       "5  25940fca-7aa9-480d-9cf0-56cc1136d30c  90334ef3-f489-45a0-89e0-d18d370e4a1c   \n",
       "6  ee6633e1-96de-47f6-96e7-d962fc6db7dd  10dc3fc4-694f-44b2-aaac-9dbace0ebabd   \n",
       "\n",
       "                        id_listing_anon ts_interaction_first  \\\n",
       "1  e387c705-0aeb-464c-9375-ece63be6f006  2016-02-16 22:14:01   \n",
       "2  d1eb1960-938f-4305-a353-51e224414dd4  2016-01-27 23:33:38   \n",
       "3  855f6779-346c-45fc-a64b-ea133250ca7a  2016-05-05 14:42:52   \n",
       "5  5dd24057-774c-45b3-b305-ebf664246952  2016-04-19 07:08:21   \n",
       "6  259d4a6c-dcda-4ff2-85cb-2882f6801b3a  2016-05-30 15:16:21   \n",
       "\n",
       "    ts_reply_at_first ts_accepted_at_first ts_booking_at ds_checkin_first  \\\n",
       "1 2016-02-16 23:37:36                  NaT           NaT       2016-08-11   \n",
       "2 2016-01-28 02:12:47                  NaT           NaT       2016-03-14   \n",
       "3 2016-05-05 15:17:40  2016-05-05 15:17:40           NaT       2016-05-27   \n",
       "5 2016-04-19 11:32:23                  NaT           NaT       2016-04-26   \n",
       "6 2016-05-30 15:18:55  2016-06-01 23:38:20           NaT       2016-08-06   \n",
       "\n",
       "  ds_checkout_first  m_guests  m_interactions  \\\n",
       "1        2016-08-22       5.0               2   \n",
       "2        2016-03-23       1.0               3   \n",
       "3        2016-05-29       2.0               3   \n",
       "5        2016-05-01       1.0               7   \n",
       "6        2016-08-14       6.0               7   \n",
       "\n",
       "   m_first_message_length_in_characters contact_channel_first  \\\n",
       "1                                 312.0            contact_me   \n",
       "2                                 164.0            contact_me   \n",
       "3                                 203.0            contact_me   \n",
       "5                                 348.0            contact_me   \n",
       "6                                  29.0            contact_me   \n",
       "\n",
       "  guest_user_stage_first  checkin_month  checkin_day  checkin_day_of_week  \n",
       "1            past_booker              8           11                    3  \n",
       "2                    new              3           14                    0  \n",
       "3                    new              5           27                    4  \n",
       "5                    new              4           26                    1  \n",
       "6            past_booker              8            6                    5  "
      ]
     },
     "execution_count": 793,
     "metadata": {},
     "output_type": "execute_result"
    }
   ],
   "source": [
    "df_dropoffs.head()"
   ]
  },
  {
   "cell_type": "code",
   "execution_count": 794,
   "metadata": {},
   "outputs": [
    {
     "data": {
      "image/png": "[encoded data removed]",
      "text/plain": [
       "<Figure size 432x288 with 1 Axes>"
      ]
     },
     "metadata": {},
     "output_type": "display_data"
    }
   ],
   "source": [
    "df_dropoffs['contact_channel_first'].value_counts().plot(kind = 'bar')\n",
    "\n",
    "plt.title('dropoffs breakdown by contact channel', fontsize = 18)\n",
    "plt.ylabel('number of inquiries', fontsize = 12)\n",
    "plt.xlabel('contact channel', fontsize = 12)\n",
    "\n",
    "plt.show()"
   ]
  },
  {
   "cell_type": "code",
   "execution_count": 795,
   "metadata": {},
   "outputs": [
    {
     "data": {
      "image/png": "[encoded data removed]",
      "text/plain": [
       "<Figure size 432x288 with 1 Axes>"
      ]
     },
     "metadata": {},
     "output_type": "display_data"
    }
   ],
   "source": [
    "df_bookings['contact_channel_first'].value_counts().plot(kind = 'bar')\n",
    "\n",
    "plt.title('bookings breakdown by contact channel', fontsize = 18)\n",
    "plt.ylabel('number of bookings', fontsize = 12)\n",
    "plt.xlabel('contact channel', fontsize = 12)\n",
    "\n",
    "plt.show()"
   ]
  },
  {
   "cell_type": "code",
   "execution_count": 796,
   "metadata": {},
   "outputs": [
    {
     "data": {
      "image/png": "[encoded data removed]",
      "text/plain": [
       "<Figure size 432x288 with 1 Axes>"
      ]
     },
     "metadata": {},
     "output_type": "display_data"
    }
   ],
   "source": [
    "df_dropoffs['guest_user_stage_first'].value_counts().plot(kind = 'bar')\n",
    "\n",
    "plt.title('dropoffs breakdown by user stage', fontsize = 18)\n",
    "plt.ylabel('number of inquiries', fontsize = 12)\n",
    "plt.xlabel('user stage', fontsize = 12)\n",
    "\n",
    "plt.show()"
   ]
  },
  {
   "cell_type": "code",
   "execution_count": 797,
   "metadata": {},
   "outputs": [
    {
     "data": {
      "image/png": "[encoded data removed]",
      "text/plain": [
       "<Figure size 432x288 with 1 Axes>"
      ]
     },
     "metadata": {},
     "output_type": "display_data"
    }
   ],
   "source": [
    "df_bookings['guest_user_stage_first'].value_counts().plot(kind = 'bar')\n",
    "\n",
    "plt.title('bookings breakdown by user stage', fontsize = 18)\n",
    "plt.ylabel('number of bookings', fontsize = 12)\n",
    "plt.xlabel('user stage', fontsize = 12)\n",
    "\n",
    "plt.show()"
   ]
  },
  {
   "cell_type": "code",
   "execution_count": 798,
   "metadata": {},
   "outputs": [
    {
     "data": {
      "text/html": [
       "<div>\n",
       "<style scoped>\n",
       "    .dataframe tbody tr th:only-of-type {\n",
       "        vertical-align: middle;\n",
       "    }\n",
       "\n",
       "    .dataframe tbody tr th {\n",
       "        vertical-align: top;\n",
       "    }\n",
       "\n",
       "    .dataframe thead th {\n",
       "        text-align: right;\n",
       "    }\n",
       "</style>\n",
       "<table border=\"1\" class=\"dataframe\">\n",
       "  <thead>\n",
       "    <tr style=\"text-align: right;\">\n",
       "      <th></th>\n",
       "      <th>m_guests</th>\n",
       "      <th>m_interactions</th>\n",
       "      <th>m_first_message_length_in_characters</th>\n",
       "      <th>checkin_month</th>\n",
       "      <th>checkin_day</th>\n",
       "      <th>checkin_day_of_week</th>\n",
       "    </tr>\n",
       "  </thead>\n",
       "  <tbody>\n",
       "    <tr>\n",
       "      <th>count</th>\n",
       "      <td>16299.00</td>\n",
       "      <td>16300.00</td>\n",
       "      <td>16300.00</td>\n",
       "      <td>16300.00</td>\n",
       "      <td>16300.00</td>\n",
       "      <td>16300.00</td>\n",
       "    </tr>\n",
       "    <tr>\n",
       "      <th>mean</th>\n",
       "      <td>2.98</td>\n",
       "      <td>4.77</td>\n",
       "      <td>210.16</td>\n",
       "      <td>5.63</td>\n",
       "      <td>11.92</td>\n",
       "      <td>3.36</td>\n",
       "    </tr>\n",
       "    <tr>\n",
       "      <th>std</th>\n",
       "      <td>2.04</td>\n",
       "      <td>5.45</td>\n",
       "      <td>184.03</td>\n",
       "      <td>2.93</td>\n",
       "      <td>8.17</td>\n",
       "      <td>1.74</td>\n",
       "    </tr>\n",
       "    <tr>\n",
       "      <th>min</th>\n",
       "      <td>0.00</td>\n",
       "      <td>1.00</td>\n",
       "      <td>0.00</td>\n",
       "      <td>1.00</td>\n",
       "      <td>1.00</td>\n",
       "      <td>0.00</td>\n",
       "    </tr>\n",
       "    <tr>\n",
       "      <th>25%</th>\n",
       "      <td>2.00</td>\n",
       "      <td>2.00</td>\n",
       "      <td>88.00</td>\n",
       "      <td>2.00</td>\n",
       "      <td>5.00</td>\n",
       "      <td>2.00</td>\n",
       "    </tr>\n",
       "    <tr>\n",
       "      <th>50%</th>\n",
       "      <td>2.00</td>\n",
       "      <td>3.00</td>\n",
       "      <td>166.00</td>\n",
       "      <td>7.00</td>\n",
       "      <td>10.00</td>\n",
       "      <td>4.00</td>\n",
       "    </tr>\n",
       "    <tr>\n",
       "      <th>75%</th>\n",
       "      <td>4.00</td>\n",
       "      <td>5.00</td>\n",
       "      <td>281.00</td>\n",
       "      <td>8.00</td>\n",
       "      <td>18.00</td>\n",
       "      <td>5.00</td>\n",
       "    </tr>\n",
       "    <tr>\n",
       "      <th>max</th>\n",
       "      <td>16.00</td>\n",
       "      <td>153.00</td>\n",
       "      <td>1948.00</td>\n",
       "      <td>12.00</td>\n",
       "      <td>31.00</td>\n",
       "      <td>6.00</td>\n",
       "    </tr>\n",
       "  </tbody>\n",
       "</table>\n",
       "</div>"
      ],
      "text/plain": [
       "       m_guests  m_interactions  m_first_message_length_in_characters  \\\n",
       "count  16299.00        16300.00                              16300.00   \n",
       "mean       2.98            4.77                                210.16   \n",
       "std        2.04            5.45                                184.03   \n",
       "min        0.00            1.00                                  0.00   \n",
       "25%        2.00            2.00                                 88.00   \n",
       "50%        2.00            3.00                                166.00   \n",
       "75%        4.00            5.00                                281.00   \n",
       "max       16.00          153.00                               1948.00   \n",
       "\n",
       "       checkin_month  checkin_day  checkin_day_of_week  \n",
       "count       16300.00     16300.00             16300.00  \n",
       "mean            5.63        11.92                 3.36  \n",
       "std             2.93         8.17                 1.74  \n",
       "min             1.00         1.00                 0.00  \n",
       "25%             2.00         5.00                 2.00  \n",
       "50%             7.00        10.00                 4.00  \n",
       "75%             8.00        18.00                 5.00  \n",
       "max            12.00        31.00                 6.00  "
      ]
     },
     "execution_count": 798,
     "metadata": {},
     "output_type": "execute_result"
    }
   ],
   "source": [
    "df_dropoffs.describe().round(2)"
   ]
  },
  {
   "cell_type": "code",
   "execution_count": 799,
   "metadata": {},
   "outputs": [
    {
     "data": {
      "text/html": [
       "<div>\n",
       "<style scoped>\n",
       "    .dataframe tbody tr th:only-of-type {\n",
       "        vertical-align: middle;\n",
       "    }\n",
       "\n",
       "    .dataframe tbody tr th {\n",
       "        vertical-align: top;\n",
       "    }\n",
       "\n",
       "    .dataframe thead th {\n",
       "        text-align: right;\n",
       "    }\n",
       "</style>\n",
       "<table border=\"1\" class=\"dataframe\">\n",
       "  <thead>\n",
       "    <tr style=\"text-align: right;\">\n",
       "      <th></th>\n",
       "      <th>m_guests</th>\n",
       "      <th>m_interactions</th>\n",
       "      <th>m_first_message_length_in_characters</th>\n",
       "      <th>checkin_month</th>\n",
       "      <th>checkin_day</th>\n",
       "      <th>checkin_day_of_week</th>\n",
       "    </tr>\n",
       "  </thead>\n",
       "  <tbody>\n",
       "    <tr>\n",
       "      <th>count</th>\n",
       "      <td>11587.00</td>\n",
       "      <td>11587.00</td>\n",
       "      <td>11587.00</td>\n",
       "      <td>11587.00</td>\n",
       "      <td>11587.00</td>\n",
       "      <td>11587.00</td>\n",
       "    </tr>\n",
       "    <tr>\n",
       "      <th>mean</th>\n",
       "      <td>2.50</td>\n",
       "      <td>13.16</td>\n",
       "      <td>170.58</td>\n",
       "      <td>5.21</td>\n",
       "      <td>14.42</td>\n",
       "      <td>3.20</td>\n",
       "    </tr>\n",
       "    <tr>\n",
       "      <th>std</th>\n",
       "      <td>1.54</td>\n",
       "      <td>12.63</td>\n",
       "      <td>179.44</td>\n",
       "      <td>2.52</td>\n",
       "      <td>8.33</td>\n",
       "      <td>1.81</td>\n",
       "    </tr>\n",
       "    <tr>\n",
       "      <th>min</th>\n",
       "      <td>0.00</td>\n",
       "      <td>2.00</td>\n",
       "      <td>0.00</td>\n",
       "      <td>1.00</td>\n",
       "      <td>1.00</td>\n",
       "      <td>0.00</td>\n",
       "    </tr>\n",
       "    <tr>\n",
       "      <th>25%</th>\n",
       "      <td>2.00</td>\n",
       "      <td>6.00</td>\n",
       "      <td>21.00</td>\n",
       "      <td>3.00</td>\n",
       "      <td>7.00</td>\n",
       "      <td>2.00</td>\n",
       "    </tr>\n",
       "    <tr>\n",
       "      <th>50%</th>\n",
       "      <td>2.00</td>\n",
       "      <td>10.00</td>\n",
       "      <td>135.00</td>\n",
       "      <td>5.00</td>\n",
       "      <td>13.00</td>\n",
       "      <td>3.00</td>\n",
       "    </tr>\n",
       "    <tr>\n",
       "      <th>75%</th>\n",
       "      <td>3.00</td>\n",
       "      <td>17.00</td>\n",
       "      <td>249.00</td>\n",
       "      <td>8.00</td>\n",
       "      <td>21.00</td>\n",
       "      <td>5.00</td>\n",
       "    </tr>\n",
       "    <tr>\n",
       "      <th>max</th>\n",
       "      <td>16.00</td>\n",
       "      <td>410.00</td>\n",
       "      <td>2341.00</td>\n",
       "      <td>12.00</td>\n",
       "      <td>31.00</td>\n",
       "      <td>6.00</td>\n",
       "    </tr>\n",
       "  </tbody>\n",
       "</table>\n",
       "</div>"
      ],
      "text/plain": [
       "       m_guests  m_interactions  m_first_message_length_in_characters  \\\n",
       "count  11587.00        11587.00                              11587.00   \n",
       "mean       2.50           13.16                                170.58   \n",
       "std        1.54           12.63                                179.44   \n",
       "min        0.00            2.00                                  0.00   \n",
       "25%        2.00            6.00                                 21.00   \n",
       "50%        2.00           10.00                                135.00   \n",
       "75%        3.00           17.00                                249.00   \n",
       "max       16.00          410.00                               2341.00   \n",
       "\n",
       "       checkin_month  checkin_day  checkin_day_of_week  \n",
       "count       11587.00     11587.00             11587.00  \n",
       "mean            5.21        14.42                 3.20  \n",
       "std             2.52         8.33                 1.81  \n",
       "min             1.00         1.00                 0.00  \n",
       "25%             3.00         7.00                 2.00  \n",
       "50%             5.00        13.00                 3.00  \n",
       "75%             8.00        21.00                 5.00  \n",
       "max            12.00        31.00                 6.00  "
      ]
     },
     "execution_count": 799,
     "metadata": {},
     "output_type": "execute_result"
    }
   ],
   "source": [
    "df_bookings.describe().round(2)"
   ]
  },
  {
   "cell_type": "markdown",
   "metadata": {},
   "source": [
    "Average number of interactions are significantly higher for bookings as compared to dropoffs."
   ]
  },
  {
   "cell_type": "code",
   "execution_count": 800,
   "metadata": {},
   "outputs": [
    {
     "name": "stderr",
     "output_type": "stream",
     "text": [
      "/anaconda3/lib/python3.6/site-packages/ipykernel_launcher.py:2: SettingWithCopyWarning: \n",
      "A value is trying to be set on a copy of a slice from a DataFrame.\n",
      "Try using .loc[row_indexer,col_indexer] = value instead\n",
      "\n",
      "See the caveats in the documentation: http://pandas.pydata.org/pandas-docs/stable/indexing.html#indexing-view-versus-copy\n",
      "  \n",
      "/anaconda3/lib/python3.6/site-packages/ipykernel_launcher.py:3: SettingWithCopyWarning: \n",
      "A value is trying to be set on a copy of a slice from a DataFrame.\n",
      "Try using .loc[row_indexer,col_indexer] = value instead\n",
      "\n",
      "See the caveats in the documentation: http://pandas.pydata.org/pandas-docs/stable/indexing.html#indexing-view-versus-copy\n",
      "  This is separate from the ipykernel package so we can avoid doing imports until\n",
      "/anaconda3/lib/python3.6/site-packages/ipykernel_launcher.py:5: SettingWithCopyWarning: \n",
      "A value is trying to be set on a copy of a slice from a DataFrame.\n",
      "Try using .loc[row_indexer,col_indexer] = value instead\n",
      "\n",
      "See the caveats in the documentation: http://pandas.pydata.org/pandas-docs/stable/indexing.html#indexing-view-versus-copy\n",
      "  \"\"\"\n"
     ]
    },
    {
     "data": {
      "text/html": [
       "<div>\n",
       "<style scoped>\n",
       "    .dataframe tbody tr th:only-of-type {\n",
       "        vertical-align: middle;\n",
       "    }\n",
       "\n",
       "    .dataframe tbody tr th {\n",
       "        vertical-align: top;\n",
       "    }\n",
       "\n",
       "    .dataframe thead th {\n",
       "        text-align: right;\n",
       "    }\n",
       "</style>\n",
       "<table border=\"1\" class=\"dataframe\">\n",
       "  <thead>\n",
       "    <tr style=\"text-align: right;\">\n",
       "      <th></th>\n",
       "      <th>m_guests</th>\n",
       "      <th>m_interactions</th>\n",
       "      <th>m_first_message_length_in_characters</th>\n",
       "      <th>checkin_month</th>\n",
       "      <th>checkin_day</th>\n",
       "      <th>checkin_day_of_week</th>\n",
       "      <th>time_to_reply</th>\n",
       "    </tr>\n",
       "  </thead>\n",
       "  <tbody>\n",
       "    <tr>\n",
       "      <th>count</th>\n",
       "      <td>11587.00</td>\n",
       "      <td>11587.00</td>\n",
       "      <td>11587.00</td>\n",
       "      <td>11587.00</td>\n",
       "      <td>11587.00</td>\n",
       "      <td>11587.00</td>\n",
       "      <td>11587</td>\n",
       "    </tr>\n",
       "    <tr>\n",
       "      <th>mean</th>\n",
       "      <td>2.50</td>\n",
       "      <td>13.16</td>\n",
       "      <td>170.58</td>\n",
       "      <td>5.21</td>\n",
       "      <td>14.42</td>\n",
       "      <td>3.20</td>\n",
       "      <td>0 days 02:54:12.034176</td>\n",
       "    </tr>\n",
       "    <tr>\n",
       "      <th>std</th>\n",
       "      <td>1.54</td>\n",
       "      <td>12.63</td>\n",
       "      <td>179.44</td>\n",
       "      <td>2.52</td>\n",
       "      <td>8.33</td>\n",
       "      <td>1.81</td>\n",
       "      <td>1 days 20:57:21.774354</td>\n",
       "    </tr>\n",
       "    <tr>\n",
       "      <th>min</th>\n",
       "      <td>0.00</td>\n",
       "      <td>2.00</td>\n",
       "      <td>0.00</td>\n",
       "      <td>1.00</td>\n",
       "      <td>1.00</td>\n",
       "      <td>0.00</td>\n",
       "      <td>-1 days +23:58:50</td>\n",
       "    </tr>\n",
       "    <tr>\n",
       "      <th>25%</th>\n",
       "      <td>2.00</td>\n",
       "      <td>6.00</td>\n",
       "      <td>21.00</td>\n",
       "      <td>3.00</td>\n",
       "      <td>7.00</td>\n",
       "      <td>2.00</td>\n",
       "      <td>0 days 00:00:00</td>\n",
       "    </tr>\n",
       "    <tr>\n",
       "      <th>50%</th>\n",
       "      <td>2.00</td>\n",
       "      <td>10.00</td>\n",
       "      <td>135.00</td>\n",
       "      <td>5.00</td>\n",
       "      <td>13.00</td>\n",
       "      <td>3.00</td>\n",
       "      <td>0 days 00:01:46</td>\n",
       "    </tr>\n",
       "    <tr>\n",
       "      <th>75%</th>\n",
       "      <td>3.00</td>\n",
       "      <td>17.00</td>\n",
       "      <td>249.00</td>\n",
       "      <td>8.00</td>\n",
       "      <td>21.00</td>\n",
       "      <td>5.00</td>\n",
       "      <td>0 days 00:50:19.500000</td>\n",
       "    </tr>\n",
       "    <tr>\n",
       "      <th>max</th>\n",
       "      <td>16.00</td>\n",
       "      <td>410.00</td>\n",
       "      <td>2341.00</td>\n",
       "      <td>12.00</td>\n",
       "      <td>31.00</td>\n",
       "      <td>6.00</td>\n",
       "      <td>176 days 06:24:44</td>\n",
       "    </tr>\n",
       "  </tbody>\n",
       "</table>\n",
       "</div>"
      ],
      "text/plain": [
       "       m_guests  m_interactions  m_first_message_length_in_characters  \\\n",
       "count  11587.00        11587.00                              11587.00   \n",
       "mean       2.50           13.16                                170.58   \n",
       "std        1.54           12.63                                179.44   \n",
       "min        0.00            2.00                                  0.00   \n",
       "25%        2.00            6.00                                 21.00   \n",
       "50%        2.00           10.00                                135.00   \n",
       "75%        3.00           17.00                                249.00   \n",
       "max       16.00          410.00                               2341.00   \n",
       "\n",
       "       checkin_month  checkin_day  checkin_day_of_week           time_to_reply  \n",
       "count       11587.00     11587.00             11587.00                   11587  \n",
       "mean            5.21        14.42                 3.20  0 days 02:54:12.034176  \n",
       "std             2.52         8.33                 1.81  1 days 20:57:21.774354  \n",
       "min             1.00         1.00                 0.00       -1 days +23:58:50  \n",
       "25%             3.00         7.00                 2.00         0 days 00:00:00  \n",
       "50%             5.00        13.00                 3.00         0 days 00:01:46  \n",
       "75%             8.00        21.00                 5.00  0 days 00:50:19.500000  \n",
       "max            12.00        31.00                 6.00       176 days 06:24:44  "
      ]
     },
     "execution_count": 800,
     "metadata": {},
     "output_type": "execute_result"
    }
   ],
   "source": [
    "#let's analyze the time it took by host to reply for both bookings and dropoffs\n",
    "df_bookings['time_to_reply'] = df_bookings['ts_reply_at_first'] - df_bookings['ts_interaction_first']\n",
    "df_dropoffs['time_to_reply'] = df_dropoffs['ts_reply_at_first'] - df_dropoffs['ts_interaction_first']\n",
    "\n",
    "df_bookings['time_to_reply'] = pd.to_timedelta(df_bookings['time_to_reply'])\n",
    "df_bookings.describe().round(2)"
   ]
  },
  {
   "cell_type": "code",
   "execution_count": 801,
   "metadata": {},
   "outputs": [
    {
     "data": {
      "text/html": [
       "<div>\n",
       "<style scoped>\n",
       "    .dataframe tbody tr th:only-of-type {\n",
       "        vertical-align: middle;\n",
       "    }\n",
       "\n",
       "    .dataframe tbody tr th {\n",
       "        vertical-align: top;\n",
       "    }\n",
       "\n",
       "    .dataframe thead th {\n",
       "        text-align: right;\n",
       "    }\n",
       "</style>\n",
       "<table border=\"1\" class=\"dataframe\">\n",
       "  <thead>\n",
       "    <tr style=\"text-align: right;\">\n",
       "      <th></th>\n",
       "      <th>m_guests</th>\n",
       "      <th>m_interactions</th>\n",
       "      <th>m_first_message_length_in_characters</th>\n",
       "      <th>checkin_month</th>\n",
       "      <th>checkin_day</th>\n",
       "      <th>checkin_day_of_week</th>\n",
       "      <th>time_to_reply</th>\n",
       "    </tr>\n",
       "  </thead>\n",
       "  <tbody>\n",
       "    <tr>\n",
       "      <th>count</th>\n",
       "      <td>16299.00</td>\n",
       "      <td>16300.00</td>\n",
       "      <td>16300.00</td>\n",
       "      <td>16300.00</td>\n",
       "      <td>16300.00</td>\n",
       "      <td>16300.00</td>\n",
       "      <td>14268</td>\n",
       "    </tr>\n",
       "    <tr>\n",
       "      <th>mean</th>\n",
       "      <td>2.98</td>\n",
       "      <td>4.77</td>\n",
       "      <td>210.16</td>\n",
       "      <td>5.63</td>\n",
       "      <td>11.92</td>\n",
       "      <td>3.36</td>\n",
       "      <td>1 days 00:23:39.581090</td>\n",
       "    </tr>\n",
       "    <tr>\n",
       "      <th>std</th>\n",
       "      <td>2.04</td>\n",
       "      <td>5.45</td>\n",
       "      <td>184.03</td>\n",
       "      <td>2.93</td>\n",
       "      <td>8.17</td>\n",
       "      <td>1.74</td>\n",
       "      <td>7 days 16:55:17.545568</td>\n",
       "    </tr>\n",
       "    <tr>\n",
       "      <th>min</th>\n",
       "      <td>0.00</td>\n",
       "      <td>1.00</td>\n",
       "      <td>0.00</td>\n",
       "      <td>1.00</td>\n",
       "      <td>1.00</td>\n",
       "      <td>0.00</td>\n",
       "      <td>-1 days +23:58:50</td>\n",
       "    </tr>\n",
       "    <tr>\n",
       "      <th>25%</th>\n",
       "      <td>2.00</td>\n",
       "      <td>2.00</td>\n",
       "      <td>88.00</td>\n",
       "      <td>2.00</td>\n",
       "      <td>5.00</td>\n",
       "      <td>2.00</td>\n",
       "      <td>0 days 00:27:36</td>\n",
       "    </tr>\n",
       "    <tr>\n",
       "      <th>50%</th>\n",
       "      <td>2.00</td>\n",
       "      <td>3.00</td>\n",
       "      <td>166.00</td>\n",
       "      <td>7.00</td>\n",
       "      <td>10.00</td>\n",
       "      <td>4.00</td>\n",
       "      <td>0 days 03:14:53</td>\n",
       "    </tr>\n",
       "    <tr>\n",
       "      <th>75%</th>\n",
       "      <td>4.00</td>\n",
       "      <td>5.00</td>\n",
       "      <td>281.00</td>\n",
       "      <td>8.00</td>\n",
       "      <td>18.00</td>\n",
       "      <td>5.00</td>\n",
       "      <td>0 days 12:30:27</td>\n",
       "    </tr>\n",
       "    <tr>\n",
       "      <th>max</th>\n",
       "      <td>16.00</td>\n",
       "      <td>153.00</td>\n",
       "      <td>1948.00</td>\n",
       "      <td>12.00</td>\n",
       "      <td>31.00</td>\n",
       "      <td>6.00</td>\n",
       "      <td>410 days 02:55:54</td>\n",
       "    </tr>\n",
       "  </tbody>\n",
       "</table>\n",
       "</div>"
      ],
      "text/plain": [
       "       m_guests  m_interactions  m_first_message_length_in_characters  \\\n",
       "count  16299.00        16300.00                              16300.00   \n",
       "mean       2.98            4.77                                210.16   \n",
       "std        2.04            5.45                                184.03   \n",
       "min        0.00            1.00                                  0.00   \n",
       "25%        2.00            2.00                                 88.00   \n",
       "50%        2.00            3.00                                166.00   \n",
       "75%        4.00            5.00                                281.00   \n",
       "max       16.00          153.00                               1948.00   \n",
       "\n",
       "       checkin_month  checkin_day  checkin_day_of_week           time_to_reply  \n",
       "count       16300.00     16300.00             16300.00                   14268  \n",
       "mean            5.63        11.92                 3.36  1 days 00:23:39.581090  \n",
       "std             2.93         8.17                 1.74  7 days 16:55:17.545568  \n",
       "min             1.00         1.00                 0.00       -1 days +23:58:50  \n",
       "25%             2.00         5.00                 2.00         0 days 00:27:36  \n",
       "50%             7.00        10.00                 4.00         0 days 03:14:53  \n",
       "75%             8.00        18.00                 5.00         0 days 12:30:27  \n",
       "max            12.00        31.00                 6.00       410 days 02:55:54  "
      ]
     },
     "execution_count": 801,
     "metadata": {},
     "output_type": "execute_result"
    }
   ],
   "source": [
    "df_dropoffs.describe().round(2)"
   ]
  },
  {
   "cell_type": "code",
   "execution_count": 846,
   "metadata": {},
   "outputs": [
    {
     "data": {
      "text/html": [
       "<div>\n",
       "<style scoped>\n",
       "    .dataframe tbody tr th:only-of-type {\n",
       "        vertical-align: middle;\n",
       "    }\n",
       "\n",
       "    .dataframe tbody tr th {\n",
       "        vertical-align: top;\n",
       "    }\n",
       "\n",
       "    .dataframe thead th {\n",
       "        text-align: right;\n",
       "    }\n",
       "</style>\n",
       "<table border=\"1\" class=\"dataframe\">\n",
       "  <thead>\n",
       "    <tr style=\"text-align: right;\">\n",
       "      <th></th>\n",
       "      <th>id_guest_anon</th>\n",
       "      <th>id_host_anon</th>\n",
       "      <th>id_listing_anon</th>\n",
       "      <th>ts_interaction_first</th>\n",
       "      <th>ts_reply_at_first</th>\n",
       "      <th>ts_accepted_at_first</th>\n",
       "      <th>ts_booking_at</th>\n",
       "      <th>ds_checkin_first</th>\n",
       "      <th>ds_checkout_first</th>\n",
       "      <th>m_guests</th>\n",
       "      <th>m_interactions</th>\n",
       "      <th>m_first_message_length_in_characters</th>\n",
       "      <th>contact_channel_first</th>\n",
       "      <th>guest_user_stage_first</th>\n",
       "      <th>checkin_month</th>\n",
       "      <th>checkin_day</th>\n",
       "      <th>checkin_day_of_week</th>\n",
       "    </tr>\n",
       "  </thead>\n",
       "  <tbody>\n",
       "    <tr>\n",
       "      <th>140</th>\n",
       "      <td>b837f39a-e192-471b-ab3a-d370c1665008</td>\n",
       "      <td>dfe70119-e9d3-445d-95f5-d69754bec411</td>\n",
       "      <td>92f077ff-889e-42e8-878a-9ee30977d200</td>\n",
       "      <td>2016-01-23 19:13:58</td>\n",
       "      <td>2016-01-23 19:12:48</td>\n",
       "      <td>2016-01-23 19:12:48</td>\n",
       "      <td>NaT</td>\n",
       "      <td>2016-02-03</td>\n",
       "      <td>2016-02-10</td>\n",
       "      <td>2.0</td>\n",
       "      <td>3</td>\n",
       "      <td>21.0</td>\n",
       "      <td>contact_me</td>\n",
       "      <td>past_booker</td>\n",
       "      <td>2</td>\n",
       "      <td>3</td>\n",
       "      <td>2</td>\n",
       "    </tr>\n",
       "    <tr>\n",
       "      <th>203</th>\n",
       "      <td>cb800910-3749-46c4-b3df-21e2995ccb4f</td>\n",
       "      <td>fcfb33b2-09cc-4256-89bf-46e01a34b29f</td>\n",
       "      <td>9a517c0f-076c-4f4c-adce-4b4441ce0c7e</td>\n",
       "      <td>2016-01-06 10:21:49</td>\n",
       "      <td>2016-01-06 10:21:18</td>\n",
       "      <td>2016-01-06 10:21:18</td>\n",
       "      <td>2016-01-06 10:21:18</td>\n",
       "      <td>2016-01-22</td>\n",
       "      <td>2016-01-25</td>\n",
       "      <td>4.0</td>\n",
       "      <td>9</td>\n",
       "      <td>249.0</td>\n",
       "      <td>book_it</td>\n",
       "      <td>past_booker</td>\n",
       "      <td>1</td>\n",
       "      <td>22</td>\n",
       "      <td>4</td>\n",
       "    </tr>\n",
       "    <tr>\n",
       "      <th>286</th>\n",
       "      <td>4f3415a7-73bd-49dc-9b45-5bada2a11196</td>\n",
       "      <td>08dd61b8-6839-4713-90c3-1618df9bbd7e</td>\n",
       "      <td>844e4aa1-fd95-4c85-ad50-849f785962b0</td>\n",
       "      <td>2016-04-25 21:41:51</td>\n",
       "      <td>2016-04-25 21:41:32</td>\n",
       "      <td>NaT</td>\n",
       "      <td>NaT</td>\n",
       "      <td>2016-12-29</td>\n",
       "      <td>2017-01-04</td>\n",
       "      <td>5.0</td>\n",
       "      <td>3</td>\n",
       "      <td>564.0</td>\n",
       "      <td>contact_me</td>\n",
       "      <td>new</td>\n",
       "      <td>12</td>\n",
       "      <td>29</td>\n",
       "      <td>3</td>\n",
       "    </tr>\n",
       "    <tr>\n",
       "      <th>295</th>\n",
       "      <td>51dc9eaf-f84b-48f5-bbf2-16d891cff8b0</td>\n",
       "      <td>ab124900-a516-4901-9699-692f94aeb6d8</td>\n",
       "      <td>5315d1f7-5f1d-4b10-98be-dc0105776eaf</td>\n",
       "      <td>2016-03-07 15:06:15</td>\n",
       "      <td>2016-03-07 15:05:05</td>\n",
       "      <td>NaT</td>\n",
       "      <td>NaT</td>\n",
       "      <td>2016-03-19</td>\n",
       "      <td>2016-03-24</td>\n",
       "      <td>2.0</td>\n",
       "      <td>8</td>\n",
       "      <td>202.0</td>\n",
       "      <td>contact_me</td>\n",
       "      <td>past_booker</td>\n",
       "      <td>3</td>\n",
       "      <td>19</td>\n",
       "      <td>5</td>\n",
       "    </tr>\n",
       "    <tr>\n",
       "      <th>378</th>\n",
       "      <td>a13c1750-57d7-41fe-88e3-674128b52108</td>\n",
       "      <td>261917c5-0378-4a79-bce6-de34ce54034a</td>\n",
       "      <td>0368b67f-9777-4e82-a96d-47e3c46ab6d9</td>\n",
       "      <td>2016-03-30 15:57:46</td>\n",
       "      <td>2016-03-30 15:56:36</td>\n",
       "      <td>2016-03-30 15:56:36</td>\n",
       "      <td>NaT</td>\n",
       "      <td>2016-05-25</td>\n",
       "      <td>2016-05-29</td>\n",
       "      <td>2.0</td>\n",
       "      <td>1</td>\n",
       "      <td>12.0</td>\n",
       "      <td>contact_me</td>\n",
       "      <td>new</td>\n",
       "      <td>5</td>\n",
       "      <td>25</td>\n",
       "      <td>2</td>\n",
       "    </tr>\n",
       "  </tbody>\n",
       "</table>\n",
       "</div>"
      ],
      "text/plain": [
       "                            id_guest_anon  \\\n",
       "140  b837f39a-e192-471b-ab3a-d370c1665008   \n",
       "203  cb800910-3749-46c4-b3df-21e2995ccb4f   \n",
       "286  4f3415a7-73bd-49dc-9b45-5bada2a11196   \n",
       "295  51dc9eaf-f84b-48f5-bbf2-16d891cff8b0   \n",
       "378  a13c1750-57d7-41fe-88e3-674128b52108   \n",
       "\n",
       "                             id_host_anon  \\\n",
       "140  dfe70119-e9d3-445d-95f5-d69754bec411   \n",
       "203  fcfb33b2-09cc-4256-89bf-46e01a34b29f   \n",
       "286  08dd61b8-6839-4713-90c3-1618df9bbd7e   \n",
       "295  ab124900-a516-4901-9699-692f94aeb6d8   \n",
       "378  261917c5-0378-4a79-bce6-de34ce54034a   \n",
       "\n",
       "                          id_listing_anon ts_interaction_first  \\\n",
       "140  92f077ff-889e-42e8-878a-9ee30977d200  2016-01-23 19:13:58   \n",
       "203  9a517c0f-076c-4f4c-adce-4b4441ce0c7e  2016-01-06 10:21:49   \n",
       "286  844e4aa1-fd95-4c85-ad50-849f785962b0  2016-04-25 21:41:51   \n",
       "295  5315d1f7-5f1d-4b10-98be-dc0105776eaf  2016-03-07 15:06:15   \n",
       "378  0368b67f-9777-4e82-a96d-47e3c46ab6d9  2016-03-30 15:57:46   \n",
       "\n",
       "      ts_reply_at_first ts_accepted_at_first       ts_booking_at  \\\n",
       "140 2016-01-23 19:12:48  2016-01-23 19:12:48                 NaT   \n",
       "203 2016-01-06 10:21:18  2016-01-06 10:21:18 2016-01-06 10:21:18   \n",
       "286 2016-04-25 21:41:32                  NaT                 NaT   \n",
       "295 2016-03-07 15:05:05                  NaT                 NaT   \n",
       "378 2016-03-30 15:56:36  2016-03-30 15:56:36                 NaT   \n",
       "\n",
       "    ds_checkin_first ds_checkout_first  m_guests  m_interactions  \\\n",
       "140       2016-02-03        2016-02-10       2.0               3   \n",
       "203       2016-01-22        2016-01-25       4.0               9   \n",
       "286       2016-12-29        2017-01-04       5.0               3   \n",
       "295       2016-03-19        2016-03-24       2.0               8   \n",
       "378       2016-05-25        2016-05-29       2.0               1   \n",
       "\n",
       "     m_first_message_length_in_characters contact_channel_first  \\\n",
       "140                                  21.0            contact_me   \n",
       "203                                 249.0               book_it   \n",
       "286                                 564.0            contact_me   \n",
       "295                                 202.0            contact_me   \n",
       "378                                  12.0            contact_me   \n",
       "\n",
       "    guest_user_stage_first  checkin_month  checkin_day  checkin_day_of_week  \n",
       "140            past_booker              2            3                    2  \n",
       "203            past_booker              1           22                    4  \n",
       "286                    new             12           29                    3  \n",
       "295            past_booker              3           19                    5  \n",
       "378                    new              5           25                    2  "
      ]
     },
     "execution_count": 846,
     "metadata": {},
     "output_type": "execute_result"
    }
   ],
   "source": [
    "df_contacts[df_contacts['ts_reply_at_first'] < df_contacts['ts_interaction_first']].head()\n",
    "#there are inquiries with host reply time less than first interaction time"
   ]
  },
  {
   "cell_type": "code",
   "execution_count": 803,
   "metadata": {},
   "outputs": [
    {
     "data": {
      "text/plain": [
       "count                     11426\n",
       "mean     0 days 02:56:39.862681\n",
       "std      1 days 21:16:13.288834\n",
       "min             0 days 00:00:00\n",
       "25%             0 days 00:00:00\n",
       "50%             0 days 00:02:13\n",
       "75%      0 days 00:52:32.500000\n",
       "max           176 days 06:24:44\n",
       "Name: time_to_reply, dtype: object"
      ]
     },
     "execution_count": 803,
     "metadata": {},
     "output_type": "execute_result"
    }
   ],
   "source": [
    "df_bookings[df_bookings['ts_reply_at_first'] >= df_bookings['ts_interaction_first']]['time_to_reply'].describe()"
   ]
  },
  {
   "cell_type": "code",
   "execution_count": 804,
   "metadata": {},
   "outputs": [
    {
     "data": {
      "text/plain": [
       "count                     13977\n",
       "mean     1 days 00:54:08.993203\n",
       "std      7 days 18:48:10.426007\n",
       "min             0 days 00:00:00\n",
       "25%             0 days 00:32:10\n",
       "50%             0 days 03:27:43\n",
       "75%             0 days 12:47:04\n",
       "max           410 days 02:55:54\n",
       "Name: time_to_reply, dtype: object"
      ]
     },
     "execution_count": 804,
     "metadata": {},
     "output_type": "execute_result"
    }
   ],
   "source": [
    "df_dropoffs[df_dropoffs['ts_reply_at_first'] >= df_dropoffs['ts_interaction_first']]['time_to_reply'].describe()"
   ]
  },
  {
   "cell_type": "markdown",
   "metadata": {},
   "source": [
    "Clearly, reply time does play a role in whether the inquiry would be converted in a booking as we can see that average reply time and it's standard deviation for bookings is considerably less than dropoffs."
   ]
  },
  {
   "cell_type": "code",
   "execution_count": 805,
   "metadata": {},
   "outputs": [
    {
     "data": {
      "image/png": "[encoded data removed]",
      "text/plain": [
       "<Figure size 432x288 with 1 Axes>"
      ]
     },
     "metadata": {},
     "output_type": "display_data"
    }
   ],
   "source": [
    "#let's now check if there are any specific months, days of month or day of the week causing major bookings and dropoffs.\n",
    "df_bookings['checkin_month'].value_counts()[:50].plot(kind = 'bar')\n",
    "\n",
    "plt.title('bookings breakdown by checking-in month', fontsize = 18)\n",
    "plt.ylabel('number of bookings', fontsize = 12)\n",
    "plt.xlabel('month of checking-in', fontsize = 12)\n",
    "\n",
    "plt.show()"
   ]
  },
  {
   "cell_type": "code",
   "execution_count": 806,
   "metadata": {},
   "outputs": [
    {
     "data": {
      "image/png": "[encoded data removed]",
      "text/plain": [
       "<Figure size 432x288 with 1 Axes>"
      ]
     },
     "metadata": {},
     "output_type": "display_data"
    }
   ],
   "source": [
    "df_dropoffs['checkin_month'].value_counts()[:50].plot(kind = 'bar')\n",
    "\n",
    "plt.title('dropoffs breakdown by checking-in month', fontsize = 18)\n",
    "plt.ylabel('number of dropoffs', fontsize = 12)\n",
    "plt.xlabel('month of checking-in', fontsize = 12)\n",
    "\n",
    "plt.show()\n",
    "#Aug and feb are the months with highest traffic dropping off. \n",
    "#Perhaps try and increase the lisitings especially in these months?"
   ]
  },
  {
   "cell_type": "code",
   "execution_count": 807,
   "metadata": {},
   "outputs": [
    {
     "data": {
      "image/png": "[encoded data removed]",
      "text/plain": [
       "<Figure size 432x288 with 1 Axes>"
      ]
     },
     "metadata": {},
     "output_type": "display_data"
    }
   ],
   "source": [
    "df_bookings['checkin_day'].value_counts()[:50].plot(kind = 'bar')\n",
    "plt.show()"
   ]
  },
  {
   "cell_type": "code",
   "execution_count": 808,
   "metadata": {},
   "outputs": [
    {
     "data": {
      "image/png": "[encoded data removed]",
      "text/plain": [
       "<Figure size 432x288 with 1 Axes>"
      ]
     },
     "metadata": {},
     "output_type": "display_data"
    }
   ],
   "source": [
    "df_dropoffs['checkin_day'].value_counts()[:50].plot(kind = 'bar')\n",
    "plt.show()"
   ]
  },
  {
   "cell_type": "code",
   "execution_count": 809,
   "metadata": {},
   "outputs": [
    {
     "data": {
      "image/png": "[encoded data removed]",
      "text/plain": [
       "<Figure size 432x288 with 1 Axes>"
      ]
     },
     "metadata": {},
     "output_type": "display_data"
    }
   ],
   "source": [
    "df_bookings['checkin_day_of_week'].value_counts()[:50].plot(kind = 'bar')\n",
    "plt.show()"
   ]
  },
  {
   "cell_type": "code",
   "execution_count": 810,
   "metadata": {},
   "outputs": [
    {
     "data": {
      "image/png": "[encoded data removed]",
      "text/plain": [
       "<Figure size 432x288 with 1 Axes>"
      ]
     },
     "metadata": {},
     "output_type": "display_data"
    }
   ],
   "source": [
    "df_dropoffs['checkin_day_of_week'].value_counts()[:50].plot(kind = 'bar')\n",
    "plt.show()"
   ]
  },
  {
   "cell_type": "code",
   "execution_count": 811,
   "metadata": {},
   "outputs": [
    {
     "data": {
      "text/plain": [
       "(31525, 3)"
      ]
     },
     "execution_count": 811,
     "metadata": {},
     "output_type": "execute_result"
    }
   ],
   "source": [
    "#lets merge other tables and see if we can pick anything significant from other tables\n",
    "df_users.columns = ('id_guest_anon', 'country', 'words_in_user_profile')\n",
    "df_users.shape"
   ]
  },
  {
   "cell_type": "code",
   "execution_count": 812,
   "metadata": {},
   "outputs": [
    {
     "data": {
      "text/plain": [
       "(27887, 17)"
      ]
     },
     "execution_count": 812,
     "metadata": {},
     "output_type": "execute_result"
    }
   ],
   "source": [
    "df_contacts.shape"
   ]
  },
  {
   "cell_type": "code",
   "execution_count": 813,
   "metadata": {},
   "outputs": [
    {
     "data": {
      "text/plain": [
       "(27979, 19)"
      ]
     },
     "execution_count": 813,
     "metadata": {},
     "output_type": "execute_result"
    }
   ],
   "source": [
    "df_user_contact = pd.merge(df_contacts, df_users, on= 'id_guest_anon', how='left')\n",
    "df_user_contact.shape"
   ]
  },
  {
   "cell_type": "code",
   "execution_count": 814,
   "metadata": {},
   "outputs": [
    {
     "data": {
      "text/plain": [
       "(27979, 22)"
      ]
     },
     "execution_count": 814,
     "metadata": {},
     "output_type": "execute_result"
    }
   ],
   "source": [
    "df_merge = pd.merge(df_user_contact, df_listings, on= 'id_listing_anon', how='left')\n",
    "df_merge.shape"
   ]
  },
  {
   "cell_type": "code",
   "execution_count": 815,
   "metadata": {},
   "outputs": [
    {
     "data": {
      "text/html": [
       "<div>\n",
       "<style scoped>\n",
       "    .dataframe tbody tr th:only-of-type {\n",
       "        vertical-align: middle;\n",
       "    }\n",
       "\n",
       "    .dataframe tbody tr th {\n",
       "        vertical-align: top;\n",
       "    }\n",
       "\n",
       "    .dataframe thead th {\n",
       "        text-align: right;\n",
       "    }\n",
       "</style>\n",
       "<table border=\"1\" class=\"dataframe\">\n",
       "  <thead>\n",
       "    <tr style=\"text-align: right;\">\n",
       "      <th></th>\n",
       "      <th>id_guest_anon</th>\n",
       "      <th>id_host_anon</th>\n",
       "      <th>id_listing_anon</th>\n",
       "      <th>ts_interaction_first</th>\n",
       "      <th>ts_reply_at_first</th>\n",
       "      <th>ts_accepted_at_first</th>\n",
       "      <th>ts_booking_at</th>\n",
       "      <th>ds_checkin_first</th>\n",
       "      <th>ds_checkout_first</th>\n",
       "      <th>m_guests</th>\n",
       "      <th>...</th>\n",
       "      <th>contact_channel_first</th>\n",
       "      <th>guest_user_stage_first</th>\n",
       "      <th>checkin_month</th>\n",
       "      <th>checkin_day</th>\n",
       "      <th>checkin_day_of_week</th>\n",
       "      <th>country</th>\n",
       "      <th>words_in_user_profile</th>\n",
       "      <th>room_type</th>\n",
       "      <th>listing_neighborhood</th>\n",
       "      <th>total_reviews</th>\n",
       "    </tr>\n",
       "  </thead>\n",
       "  <tbody>\n",
       "    <tr>\n",
       "      <th>10483</th>\n",
       "      <td>dbf3b26c-92c0-41b4-adf4-64f181cb50eb</td>\n",
       "      <td>c6b86046-1fe3-4bfc-a670-4b34cc621f19</td>\n",
       "      <td>4451463b-2929-4d3e-a398-eda0d06cdab2</td>\n",
       "      <td>2016-01-01 00:46:47</td>\n",
       "      <td>2016-01-01 01:07:50</td>\n",
       "      <td>NaT</td>\n",
       "      <td>NaT</td>\n",
       "      <td>2016-02-07</td>\n",
       "      <td>2016-02-09</td>\n",
       "      <td>4.0</td>\n",
       "      <td>...</td>\n",
       "      <td>book_it</td>\n",
       "      <td>past_booker</td>\n",
       "      <td>2</td>\n",
       "      <td>7</td>\n",
       "      <td>6</td>\n",
       "      <td>FR</td>\n",
       "      <td>0</td>\n",
       "      <td>Entire home/apt</td>\n",
       "      <td>Humaitá</td>\n",
       "      <td>1.0</td>\n",
       "    </tr>\n",
       "    <tr>\n",
       "      <th>6277</th>\n",
       "      <td>2075cf7e-1aff-49ee-9a2d-b2803974892d</td>\n",
       "      <td>76fcce99-d912-4301-9b5d-c8d9d3122d10</td>\n",
       "      <td>b0b282e9-5c09-42a6-bc36-edba8766ff0e</td>\n",
       "      <td>2016-01-01 01:15:04</td>\n",
       "      <td>NaT</td>\n",
       "      <td>NaT</td>\n",
       "      <td>NaT</td>\n",
       "      <td>2016-08-12</td>\n",
       "      <td>2016-08-15</td>\n",
       "      <td>4.0</td>\n",
       "      <td>...</td>\n",
       "      <td>contact_me</td>\n",
       "      <td>new</td>\n",
       "      <td>8</td>\n",
       "      <td>12</td>\n",
       "      <td>4</td>\n",
       "      <td>BR</td>\n",
       "      <td>0</td>\n",
       "      <td>Entire home/apt</td>\n",
       "      <td>-unknown-</td>\n",
       "      <td>0.0</td>\n",
       "    </tr>\n",
       "    <tr>\n",
       "      <th>3778</th>\n",
       "      <td>691e474e-72ff-4063-832c-29ef50c2d02f</td>\n",
       "      <td>49ec042b-01fe-49c1-8e7e-6ba8cffbaff3</td>\n",
       "      <td>bd7cd3a0-057d-469f-8060-7368b1e91e7a</td>\n",
       "      <td>2016-01-01 03:11:41</td>\n",
       "      <td>2016-01-01 03:58:13</td>\n",
       "      <td>NaT</td>\n",
       "      <td>NaT</td>\n",
       "      <td>2016-01-03</td>\n",
       "      <td>2016-01-04</td>\n",
       "      <td>2.0</td>\n",
       "      <td>...</td>\n",
       "      <td>book_it</td>\n",
       "      <td>new</td>\n",
       "      <td>1</td>\n",
       "      <td>3</td>\n",
       "      <td>6</td>\n",
       "      <td>AR</td>\n",
       "      <td>72</td>\n",
       "      <td>Entire home/apt</td>\n",
       "      <td>Botafogo</td>\n",
       "      <td>0.0</td>\n",
       "    </tr>\n",
       "    <tr>\n",
       "      <th>26909</th>\n",
       "      <td>6e6db741-8e17-4004-b4f6-03db5583fa36</td>\n",
       "      <td>d516950c-c41b-4707-bb47-1617aa81ce1a</td>\n",
       "      <td>ebd9a5ce-c045-4ea2-bff4-b08be15e980c</td>\n",
       "      <td>2016-01-01 05:14:48</td>\n",
       "      <td>2016-01-01 12:56:18</td>\n",
       "      <td>NaT</td>\n",
       "      <td>NaT</td>\n",
       "      <td>2016-02-04</td>\n",
       "      <td>2016-02-11</td>\n",
       "      <td>1.0</td>\n",
       "      <td>...</td>\n",
       "      <td>contact_me</td>\n",
       "      <td>new</td>\n",
       "      <td>2</td>\n",
       "      <td>4</td>\n",
       "      <td>3</td>\n",
       "      <td>BR</td>\n",
       "      <td>0</td>\n",
       "      <td>Entire home/apt</td>\n",
       "      <td>Copacabana</td>\n",
       "      <td>2.0</td>\n",
       "    </tr>\n",
       "    <tr>\n",
       "      <th>23821</th>\n",
       "      <td>58e229f4-2e06-40f0-9710-ace655f87def</td>\n",
       "      <td>3a9857eb-9072-4ffc-b841-8b499bb34a25</td>\n",
       "      <td>d6c6757d-5e82-4c62-ae7d-a31fa3521f2a</td>\n",
       "      <td>2016-01-01 06:28:35</td>\n",
       "      <td>2016-01-01 14:19:57</td>\n",
       "      <td>2016-01-01 14:19:57</td>\n",
       "      <td>2016-01-01 14:19:57</td>\n",
       "      <td>2016-08-02</td>\n",
       "      <td>2016-08-13</td>\n",
       "      <td>4.0</td>\n",
       "      <td>...</td>\n",
       "      <td>book_it</td>\n",
       "      <td>past_booker</td>\n",
       "      <td>8</td>\n",
       "      <td>2</td>\n",
       "      <td>1</td>\n",
       "      <td>US</td>\n",
       "      <td>0</td>\n",
       "      <td>Entire home/apt</td>\n",
       "      <td>Maracanã</td>\n",
       "      <td>0.0</td>\n",
       "    </tr>\n",
       "  </tbody>\n",
       "</table>\n",
       "<p>5 rows × 22 columns</p>\n",
       "</div>"
      ],
      "text/plain": [
       "                              id_guest_anon  \\\n",
       "10483  dbf3b26c-92c0-41b4-adf4-64f181cb50eb   \n",
       "6277   2075cf7e-1aff-49ee-9a2d-b2803974892d   \n",
       "3778   691e474e-72ff-4063-832c-29ef50c2d02f   \n",
       "26909  6e6db741-8e17-4004-b4f6-03db5583fa36   \n",
       "23821  58e229f4-2e06-40f0-9710-ace655f87def   \n",
       "\n",
       "                               id_host_anon  \\\n",
       "10483  c6b86046-1fe3-4bfc-a670-4b34cc621f19   \n",
       "6277   76fcce99-d912-4301-9b5d-c8d9d3122d10   \n",
       "3778   49ec042b-01fe-49c1-8e7e-6ba8cffbaff3   \n",
       "26909  d516950c-c41b-4707-bb47-1617aa81ce1a   \n",
       "23821  3a9857eb-9072-4ffc-b841-8b499bb34a25   \n",
       "\n",
       "                            id_listing_anon ts_interaction_first  \\\n",
       "10483  4451463b-2929-4d3e-a398-eda0d06cdab2  2016-01-01 00:46:47   \n",
       "6277   b0b282e9-5c09-42a6-bc36-edba8766ff0e  2016-01-01 01:15:04   \n",
       "3778   bd7cd3a0-057d-469f-8060-7368b1e91e7a  2016-01-01 03:11:41   \n",
       "26909  ebd9a5ce-c045-4ea2-bff4-b08be15e980c  2016-01-01 05:14:48   \n",
       "23821  d6c6757d-5e82-4c62-ae7d-a31fa3521f2a  2016-01-01 06:28:35   \n",
       "\n",
       "        ts_reply_at_first ts_accepted_at_first       ts_booking_at  \\\n",
       "10483 2016-01-01 01:07:50                  NaT                 NaT   \n",
       "6277                  NaT                  NaT                 NaT   \n",
       "3778  2016-01-01 03:58:13                  NaT                 NaT   \n",
       "26909 2016-01-01 12:56:18                  NaT                 NaT   \n",
       "23821 2016-01-01 14:19:57  2016-01-01 14:19:57 2016-01-01 14:19:57   \n",
       "\n",
       "      ds_checkin_first ds_checkout_first  m_guests      ...       \\\n",
       "10483       2016-02-07        2016-02-09       4.0      ...        \n",
       "6277        2016-08-12        2016-08-15       4.0      ...        \n",
       "3778        2016-01-03        2016-01-04       2.0      ...        \n",
       "26909       2016-02-04        2016-02-11       1.0      ...        \n",
       "23821       2016-08-02        2016-08-13       4.0      ...        \n",
       "\n",
       "       contact_channel_first  guest_user_stage_first checkin_month  \\\n",
       "10483                book_it             past_booker             2   \n",
       "6277              contact_me                     new             8   \n",
       "3778                 book_it                     new             1   \n",
       "26909             contact_me                     new             2   \n",
       "23821                book_it             past_booker             8   \n",
       "\n",
       "      checkin_day  checkin_day_of_week  country  words_in_user_profile  \\\n",
       "10483           7                    6       FR                      0   \n",
       "6277           12                    4       BR                      0   \n",
       "3778            3                    6       AR                     72   \n",
       "26909           4                    3       BR                      0   \n",
       "23821           2                    1       US                      0   \n",
       "\n",
       "             room_type  listing_neighborhood total_reviews  \n",
       "10483  Entire home/apt               Humaitá           1.0  \n",
       "6277   Entire home/apt             -unknown-           0.0  \n",
       "3778   Entire home/apt              Botafogo           0.0  \n",
       "26909  Entire home/apt            Copacabana           2.0  \n",
       "23821  Entire home/apt              Maracanã           0.0  \n",
       "\n",
       "[5 rows x 22 columns]"
      ]
     },
     "execution_count": 815,
     "metadata": {},
     "output_type": "execute_result"
    }
   ],
   "source": [
    "df_merge.sort_values('ts_interaction_first').head()"
   ]
  },
  {
   "cell_type": "code",
   "execution_count": 816,
   "metadata": {},
   "outputs": [],
   "source": [
    "df_merge_bookings = df_merge[df_merge['ts_booking_at'].notnull()]\n",
    "df_merge_dropoffs = df_merge[df_merge['ts_booking_at'].isnull()]"
   ]
  },
  {
   "cell_type": "code",
   "execution_count": 817,
   "metadata": {},
   "outputs": [
    {
     "data": {
      "text/plain": [
       "(11608, 22)"
      ]
     },
     "execution_count": 817,
     "metadata": {},
     "output_type": "execute_result"
    }
   ],
   "source": [
    "df_merge_bookings.shape"
   ]
  },
  {
   "cell_type": "code",
   "execution_count": 818,
   "metadata": {},
   "outputs": [
    {
     "data": {
      "text/plain": [
       "(16371, 22)"
      ]
     },
     "execution_count": 818,
     "metadata": {},
     "output_type": "execute_result"
    }
   ],
   "source": [
    "df_merge_dropoffs.shape"
   ]
  },
  {
   "cell_type": "code",
   "execution_count": 819,
   "metadata": {},
   "outputs": [
    {
     "data": {
      "text/html": [
       "<div>\n",
       "<style scoped>\n",
       "    .dataframe tbody tr th:only-of-type {\n",
       "        vertical-align: middle;\n",
       "    }\n",
       "\n",
       "    .dataframe tbody tr th {\n",
       "        vertical-align: top;\n",
       "    }\n",
       "\n",
       "    .dataframe thead th {\n",
       "        text-align: right;\n",
       "    }\n",
       "</style>\n",
       "<table border=\"1\" class=\"dataframe\">\n",
       "  <thead>\n",
       "    <tr style=\"text-align: right;\">\n",
       "      <th></th>\n",
       "      <th>id_guest_anon</th>\n",
       "      <th>id_host_anon</th>\n",
       "      <th>id_listing_anon</th>\n",
       "      <th>ts_interaction_first</th>\n",
       "      <th>ts_reply_at_first</th>\n",
       "      <th>ts_accepted_at_first</th>\n",
       "      <th>ts_booking_at</th>\n",
       "      <th>ds_checkin_first</th>\n",
       "      <th>ds_checkout_first</th>\n",
       "      <th>m_guests</th>\n",
       "      <th>...</th>\n",
       "      <th>contact_channel_first</th>\n",
       "      <th>guest_user_stage_first</th>\n",
       "      <th>checkin_month</th>\n",
       "      <th>checkin_day</th>\n",
       "      <th>checkin_day_of_week</th>\n",
       "      <th>country</th>\n",
       "      <th>words_in_user_profile</th>\n",
       "      <th>room_type</th>\n",
       "      <th>listing_neighborhood</th>\n",
       "      <th>total_reviews</th>\n",
       "    </tr>\n",
       "  </thead>\n",
       "  <tbody>\n",
       "    <tr>\n",
       "      <th>0</th>\n",
       "      <td>da8656a1-51af-4f38-b1c4-94be1f585157</td>\n",
       "      <td>5426897d-960d-4013-9e38-606ae746793c</td>\n",
       "      <td>a408a8b2-0d44-4513-a611-3736d0409bb2</td>\n",
       "      <td>2016-04-21 02:55:53</td>\n",
       "      <td>2016-04-21 03:15:00</td>\n",
       "      <td>2016-04-21 03:15:00</td>\n",
       "      <td>2016-04-21 03:15:00</td>\n",
       "      <td>2016-08-02</td>\n",
       "      <td>2016-08-06</td>\n",
       "      <td>4.0</td>\n",
       "      <td>...</td>\n",
       "      <td>book_it</td>\n",
       "      <td>past_booker</td>\n",
       "      <td>8</td>\n",
       "      <td>2</td>\n",
       "      <td>1</td>\n",
       "      <td>CL</td>\n",
       "      <td>0</td>\n",
       "      <td>Entire home/apt</td>\n",
       "      <td>Copacabana</td>\n",
       "      <td>9.0</td>\n",
       "    </tr>\n",
       "    <tr>\n",
       "      <th>4</th>\n",
       "      <td>5ddbbcc3-ac1a-4d8a-b6f8-0f675b76d1b2</td>\n",
       "      <td>f2fed6f3-4c5c-453d-9e64-37c62b8bd06d</td>\n",
       "      <td>f2928a59-c5e7-42b2-9c37-240a40f38dc0</td>\n",
       "      <td>2016-06-23 03:09:25</td>\n",
       "      <td>2016-06-23 03:09:26</td>\n",
       "      <td>2016-06-23 03:09:33</td>\n",
       "      <td>2016-06-23 03:09:33</td>\n",
       "      <td>2016-08-19</td>\n",
       "      <td>2016-08-21</td>\n",
       "      <td>3.0</td>\n",
       "      <td>...</td>\n",
       "      <td>instant_book</td>\n",
       "      <td>past_booker</td>\n",
       "      <td>8</td>\n",
       "      <td>19</td>\n",
       "      <td>4</td>\n",
       "      <td>BR</td>\n",
       "      <td>1</td>\n",
       "      <td>Entire home/apt</td>\n",
       "      <td>Ipanema</td>\n",
       "      <td>1.0</td>\n",
       "    </tr>\n",
       "    <tr>\n",
       "      <th>7</th>\n",
       "      <td>b3357bab-cf20-4646-b723-23ae84fc8fb3</td>\n",
       "      <td>7e0696cb-6321-4d60-a8e9-793ee14724fd</td>\n",
       "      <td>75de5296-f7df-45d2-9c18-af332a082784</td>\n",
       "      <td>2016-03-10 12:13:46</td>\n",
       "      <td>2016-03-10 12:13:47</td>\n",
       "      <td>2016-03-10 12:13:47</td>\n",
       "      <td>2016-03-10 12:13:47</td>\n",
       "      <td>2017-02-23</td>\n",
       "      <td>2017-03-02</td>\n",
       "      <td>1.0</td>\n",
       "      <td>...</td>\n",
       "      <td>instant_book</td>\n",
       "      <td>new</td>\n",
       "      <td>2</td>\n",
       "      <td>23</td>\n",
       "      <td>3</td>\n",
       "      <td>AT</td>\n",
       "      <td>185</td>\n",
       "      <td>Private room</td>\n",
       "      <td>-unknown-</td>\n",
       "      <td>39.0</td>\n",
       "    </tr>\n",
       "    <tr>\n",
       "      <th>8</th>\n",
       "      <td>e52ccc38-1ca1-48b4-a10a-08663601dbbb</td>\n",
       "      <td>1c990fca-5b09-4eca-bdcf-d9e923112f04</td>\n",
       "      <td>f6822854-6d3c-4cfd-a983-49603a401771</td>\n",
       "      <td>2016-04-24 06:46:42</td>\n",
       "      <td>2016-04-24 06:46:42</td>\n",
       "      <td>2016-04-24 06:46:42</td>\n",
       "      <td>2016-04-24 06:46:42</td>\n",
       "      <td>2016-05-16</td>\n",
       "      <td>2016-05-18</td>\n",
       "      <td>1.0</td>\n",
       "      <td>...</td>\n",
       "      <td>instant_book</td>\n",
       "      <td>past_booker</td>\n",
       "      <td>5</td>\n",
       "      <td>16</td>\n",
       "      <td>0</td>\n",
       "      <td>NL</td>\n",
       "      <td>1</td>\n",
       "      <td>Private room</td>\n",
       "      <td>-unknown-</td>\n",
       "      <td>40.0</td>\n",
       "    </tr>\n",
       "    <tr>\n",
       "      <th>12</th>\n",
       "      <td>a2c8d522-41df-4b49-9aaf-6c4b3d95afed</td>\n",
       "      <td>3d046d4c-b456-4fdc-b1db-9ee1a7a441a9</td>\n",
       "      <td>96169363-f4e6-4a15-8a2f-90d93c6ae469</td>\n",
       "      <td>2016-02-20 03:51:52</td>\n",
       "      <td>2016-02-20 09:57:20</td>\n",
       "      <td>2016-02-20 09:57:20</td>\n",
       "      <td>2016-02-20 09:57:20</td>\n",
       "      <td>2016-02-20</td>\n",
       "      <td>2016-02-21</td>\n",
       "      <td>2.0</td>\n",
       "      <td>...</td>\n",
       "      <td>book_it</td>\n",
       "      <td>past_booker</td>\n",
       "      <td>2</td>\n",
       "      <td>20</td>\n",
       "      <td>5</td>\n",
       "      <td>US</td>\n",
       "      <td>45</td>\n",
       "      <td>Entire home/apt</td>\n",
       "      <td>Ipanema</td>\n",
       "      <td>4.0</td>\n",
       "    </tr>\n",
       "  </tbody>\n",
       "</table>\n",
       "<p>5 rows × 22 columns</p>\n",
       "</div>"
      ],
      "text/plain": [
       "                           id_guest_anon  \\\n",
       "0   da8656a1-51af-4f38-b1c4-94be1f585157   \n",
       "4   5ddbbcc3-ac1a-4d8a-b6f8-0f675b76d1b2   \n",
       "7   b3357bab-cf20-4646-b723-23ae84fc8fb3   \n",
       "8   e52ccc38-1ca1-48b4-a10a-08663601dbbb   \n",
       "12  a2c8d522-41df-4b49-9aaf-6c4b3d95afed   \n",
       "\n",
       "                            id_host_anon  \\\n",
       "0   5426897d-960d-4013-9e38-606ae746793c   \n",
       "4   f2fed6f3-4c5c-453d-9e64-37c62b8bd06d   \n",
       "7   7e0696cb-6321-4d60-a8e9-793ee14724fd   \n",
       "8   1c990fca-5b09-4eca-bdcf-d9e923112f04   \n",
       "12  3d046d4c-b456-4fdc-b1db-9ee1a7a441a9   \n",
       "\n",
       "                         id_listing_anon ts_interaction_first  \\\n",
       "0   a408a8b2-0d44-4513-a611-3736d0409bb2  2016-04-21 02:55:53   \n",
       "4   f2928a59-c5e7-42b2-9c37-240a40f38dc0  2016-06-23 03:09:25   \n",
       "7   75de5296-f7df-45d2-9c18-af332a082784  2016-03-10 12:13:46   \n",
       "8   f6822854-6d3c-4cfd-a983-49603a401771  2016-04-24 06:46:42   \n",
       "12  96169363-f4e6-4a15-8a2f-90d93c6ae469  2016-02-20 03:51:52   \n",
       "\n",
       "     ts_reply_at_first ts_accepted_at_first       ts_booking_at  \\\n",
       "0  2016-04-21 03:15:00  2016-04-21 03:15:00 2016-04-21 03:15:00   \n",
       "4  2016-06-23 03:09:26  2016-06-23 03:09:33 2016-06-23 03:09:33   \n",
       "7  2016-03-10 12:13:47  2016-03-10 12:13:47 2016-03-10 12:13:47   \n",
       "8  2016-04-24 06:46:42  2016-04-24 06:46:42 2016-04-24 06:46:42   \n",
       "12 2016-02-20 09:57:20  2016-02-20 09:57:20 2016-02-20 09:57:20   \n",
       "\n",
       "   ds_checkin_first ds_checkout_first  m_guests      ...       \\\n",
       "0        2016-08-02        2016-08-06       4.0      ...        \n",
       "4        2016-08-19        2016-08-21       3.0      ...        \n",
       "7        2017-02-23        2017-03-02       1.0      ...        \n",
       "8        2016-05-16        2016-05-18       1.0      ...        \n",
       "12       2016-02-20        2016-02-21       2.0      ...        \n",
       "\n",
       "    contact_channel_first  guest_user_stage_first checkin_month checkin_day  \\\n",
       "0                 book_it             past_booker             8           2   \n",
       "4            instant_book             past_booker             8          19   \n",
       "7            instant_book                     new             2          23   \n",
       "8            instant_book             past_booker             5          16   \n",
       "12                book_it             past_booker             2          20   \n",
       "\n",
       "    checkin_day_of_week  country  words_in_user_profile        room_type  \\\n",
       "0                     1       CL                      0  Entire home/apt   \n",
       "4                     4       BR                      1  Entire home/apt   \n",
       "7                     3       AT                    185     Private room   \n",
       "8                     0       NL                      1     Private room   \n",
       "12                    5       US                     45  Entire home/apt   \n",
       "\n",
       "    listing_neighborhood total_reviews  \n",
       "0             Copacabana           9.0  \n",
       "4                Ipanema           1.0  \n",
       "7              -unknown-          39.0  \n",
       "8              -unknown-          40.0  \n",
       "12               Ipanema           4.0  \n",
       "\n",
       "[5 rows x 22 columns]"
      ]
     },
     "execution_count": 819,
     "metadata": {},
     "output_type": "execute_result"
    }
   ],
   "source": [
    "df_merge_bookings.head()"
   ]
  },
  {
   "cell_type": "code",
   "execution_count": 820,
   "metadata": {},
   "outputs": [
    {
     "data": {
      "image/png": "[encoded data removed]",
      "text/plain": [
       "<Figure size 432x288 with 1 Axes>"
      ]
     },
     "metadata": {},
     "output_type": "display_data"
    }
   ],
   "source": [
    "df_merge_bookings['room_type'].value_counts().plot(kind = 'bar')\n",
    "\n",
    "plt.title('bookings breakdown by room type', fontsize = 18)\n",
    "plt.ylabel('number of bookings', fontsize = 12)\n",
    "plt.xlabel('room type', fontsize = 12)\n",
    "\n",
    "plt.show()"
   ]
  },
  {
   "cell_type": "code",
   "execution_count": 821,
   "metadata": {},
   "outputs": [
    {
     "data": {
      "image/png": "[encoded data removed]",
      "text/plain": [
       "<Figure size 432x288 with 1 Axes>"
      ]
     },
     "metadata": {},
     "output_type": "display_data"
    }
   ],
   "source": [
    "df_merge_dropoffs['room_type'].value_counts().plot(kind = 'bar')\n",
    "\n",
    "plt.title('dropoffs breakdown by room type', fontsize = 18)\n",
    "plt.ylabel('number of dropoffs', fontsize = 12)\n",
    "plt.xlabel('room type', fontsize = 12)\n",
    "\n",
    "plt.show()"
   ]
  },
  {
   "cell_type": "code",
   "execution_count": 822,
   "metadata": {},
   "outputs": [
    {
     "data": {
      "image/png": "[encoded data removed]",
      "text/plain": [
       "<Figure size 432x288 with 1 Axes>"
      ]
     },
     "metadata": {},
     "output_type": "display_data"
    }
   ],
   "source": [
    "df_merge_bookings['listing_neighborhood'].value_counts()[1:5].plot(kind = 'bar')\n",
    "\n",
    "plt.title('bookings breakdown by neighborhood', fontsize = 18)\n",
    "plt.ylabel('number of bookings', fontsize = 12)\n",
    "plt.xlabel('listing_neighborhood', fontsize = 12)\n",
    "\n",
    "plt.show()"
   ]
  },
  {
   "cell_type": "code",
   "execution_count": 823,
   "metadata": {},
   "outputs": [
    {
     "data": {
      "image/png": "[encoded data removed]",
      "text/plain": [
       "<Figure size 432x288 with 1 Axes>"
      ]
     },
     "metadata": {},
     "output_type": "display_data"
    }
   ],
   "source": [
    "df_merge_dropoffs['listing_neighborhood'].value_counts()[1:5].plot(kind = 'bar')\n",
    "\n",
    "plt.title('dropoffs breakdown by neighborhood', fontsize = 18)\n",
    "plt.ylabel('number of dropoffs', fontsize = 12)\n",
    "plt.xlabel('listing_neighborhood', fontsize = 12)\n",
    "\n",
    "plt.show()"
   ]
  },
  {
   "cell_type": "code",
   "execution_count": 824,
   "metadata": {},
   "outputs": [
    {
     "data": {
      "text/plain": [
       "<matplotlib.axes._subplots.AxesSubplot at 0x1a44450518>"
      ]
     },
     "execution_count": 824,
     "metadata": {},
     "output_type": "execute_result"
    },
    {
     "data": {
      "image/png": "[encoded data removed]",
      "text/plain": [
       "<Figure size 432x288 with 1 Axes>"
      ]
     },
     "metadata": {},
     "output_type": "display_data"
    }
   ],
   "source": [
    "df_merge_bookings[df_merge_bookings['listing_neighborhood'] == 'Copacabana']['room_type'].value_counts().plot(kind = 'bar')"
   ]
  },
  {
   "cell_type": "code",
   "execution_count": 825,
   "metadata": {},
   "outputs": [
    {
     "data": {
      "text/plain": [
       "<matplotlib.axes._subplots.AxesSubplot at 0x1a492fd6d8>"
      ]
     },
     "execution_count": 825,
     "metadata": {},
     "output_type": "execute_result"
    },
    {
     "data": {
      "image/png": "[encoded data removed]",
      "text/plain": [
       "<Figure size 432x288 with 1 Axes>"
      ]
     },
     "metadata": {},
     "output_type": "display_data"
    }
   ],
   "source": [
    "#total users\n",
    "df_users['country'].value_counts()[:10].plot(kind = 'bar')"
   ]
  },
  {
   "cell_type": "code",
   "execution_count": 826,
   "metadata": {},
   "outputs": [
    {
     "data": {
      "text/plain": [
       "<matplotlib.axes._subplots.AxesSubplot at 0x1a440be080>"
      ]
     },
     "execution_count": 826,
     "metadata": {},
     "output_type": "execute_result"
    },
    {
     "data": {
      "image/png": "[encoded data removed]",
      "text/plain": [
       "<Figure size 1440x576 with 1 Axes>"
      ]
     },
     "metadata": {},
     "output_type": "display_data"
    }
   ],
   "source": [
    "plt.figure(figsize= (20,8))\n",
    "df_merge_bookings['country'].value_counts()[:50].plot(kind = 'bar')"
   ]
  },
  {
   "cell_type": "code",
   "execution_count": 827,
   "metadata": {},
   "outputs": [
    {
     "data": {
      "text/plain": [
       "<matplotlib.axes._subplots.AxesSubplot at 0x1a44363eb8>"
      ]
     },
     "execution_count": 827,
     "metadata": {},
     "output_type": "execute_result"
    },
    {
     "data": {
      "image/png": "[encoded data removed]",
      "text/plain": [
       "<Figure size 1440x576 with 1 Axes>"
      ]
     },
     "metadata": {},
     "output_type": "display_data"
    }
   ],
   "source": [
    "plt.figure(figsize= (20,8))\n",
    "\n",
    "df_merge_dropoffs['country'].value_counts()[:50].plot(kind = 'bar')"
   ]
  },
  {
   "cell_type": "code",
   "execution_count": 828,
   "metadata": {},
   "outputs": [
    {
     "data": {
      "text/plain": [
       "<matplotlib.axes._subplots.AxesSubplot at 0x1a4a9a3470>"
      ]
     },
     "execution_count": 828,
     "metadata": {},
     "output_type": "execute_result"
    },
    {
     "data": {
      "image/png": "[encoded data removed]",
      "text/plain": [
       "<Figure size 1440x576 with 1 Axes>"
      ]
     },
     "metadata": {},
     "output_type": "display_data"
    }
   ],
   "source": [
    "plt.figure(figsize= (20,8))\n",
    "\n",
    "df_merge_dropoffs['total_reviews'].value_counts()[:50].plot(kind = 'bar')"
   ]
  },
  {
   "cell_type": "code",
   "execution_count": 829,
   "metadata": {},
   "outputs": [
    {
     "data": {
      "text/plain": [
       "<matplotlib.axes._subplots.AxesSubplot at 0x1a484f1ba8>"
      ]
     },
     "execution_count": 829,
     "metadata": {},
     "output_type": "execute_result"
    },
    {
     "data": {
      "image/png": "[encoded data removed]",
      "text/plain": [
       "<Figure size 1440x576 with 1 Axes>"
      ]
     },
     "metadata": {},
     "output_type": "display_data"
    }
   ],
   "source": [
    "plt.figure(figsize= (20,8))\n",
    "\n",
    "df_merge_bookings['total_reviews'].value_counts()[:50].plot(kind = 'bar')"
   ]
  },
  {
   "cell_type": "code",
   "execution_count": 830,
   "metadata": {},
   "outputs": [
    {
     "data": {
      "text/plain": [
       "<matplotlib.axes._subplots.AxesSubplot at 0x1a42e66c50>"
      ]
     },
     "execution_count": 830,
     "metadata": {},
     "output_type": "execute_result"
    },
    {
     "data": {
      "image/png": "[encoded data removed]",
      "text/plain": [
       "<Figure size 1440x576 with 1 Axes>"
      ]
     },
     "metadata": {},
     "output_type": "display_data"
    }
   ],
   "source": [
    "plt.figure(figsize= (20,8))\n",
    "\n",
    "df_merge_dropoffs['words_in_user_profile'].value_counts()[:50].plot(kind = 'bar')"
   ]
  },
  {
   "cell_type": "code",
   "execution_count": 831,
   "metadata": {},
   "outputs": [
    {
     "data": {
      "text/plain": [
       "<matplotlib.axes._subplots.AxesSubplot at 0x1a4d00b0b8>"
      ]
     },
     "execution_count": 831,
     "metadata": {},
     "output_type": "execute_result"
    },
    {
     "data": {
      "image/png": "[encoded data removed]",
      "text/plain": [
       "<Figure size 1440x576 with 1 Axes>"
      ]
     },
     "metadata": {},
     "output_type": "display_data"
    }
   ],
   "source": [
    "plt.figure(figsize= (20,8))\n",
    "\n",
    "df_merge_bookings['words_in_user_profile'].value_counts()[:50].plot(kind = 'bar')"
   ]
  },
  {
   "cell_type": "code",
   "execution_count": 832,
   "metadata": {},
   "outputs": [
    {
     "data": {
      "text/plain": [
       "Index(['id_guest_anon', 'id_host_anon', 'id_listing_anon',\n",
       "       'ts_interaction_first', 'ts_reply_at_first', 'ts_accepted_at_first',\n",
       "       'ts_booking_at', 'ds_checkin_first', 'ds_checkout_first', 'm_guests',\n",
       "       'm_interactions', 'm_first_message_length_in_characters',\n",
       "       'contact_channel_first', 'guest_user_stage_first', 'checkin_month',\n",
       "       'checkin_day', 'checkin_day_of_week', 'country',\n",
       "       'words_in_user_profile', 'room_type', 'listing_neighborhood',\n",
       "       'total_reviews'],\n",
       "      dtype='object')"
      ]
     },
     "execution_count": 832,
     "metadata": {},
     "output_type": "execute_result"
    }
   ],
   "source": [
    "df_merge_bookings.columns"
   ]
  },
  {
   "cell_type": "code",
   "execution_count": 833,
   "metadata": {},
   "outputs": [
    {
     "data": {
      "text/plain": [
       "(11525, 22)"
      ]
     },
     "execution_count": 833,
     "metadata": {},
     "output_type": "execute_result"
    }
   ],
   "source": [
    "df_host_rejected_dropoffs = df_merge_dropoffs[df_merge_dropoffs.ts_accepted_at_first.isnull()]\n",
    "df_host_rejected_dropoffs.shape"
   ]
  },
  {
   "cell_type": "code",
   "execution_count": 834,
   "metadata": {},
   "outputs": [
    {
     "data": {
      "text/plain": [
       "(2044, 22)"
      ]
     },
     "execution_count": 834,
     "metadata": {},
     "output_type": "execute_result"
    }
   ],
   "source": [
    "df_host_didnt_reply = df_merge_dropoffs[df_merge_dropoffs.ts_reply_at_first.isnull()]\n",
    "df_host_didnt_reply.shape"
   ]
  },
  {
   "cell_type": "code",
   "execution_count": 835,
   "metadata": {},
   "outputs": [
    {
     "data": {
      "text/plain": [
       "(16371, 22)"
      ]
     },
     "execution_count": 835,
     "metadata": {},
     "output_type": "execute_result"
    }
   ],
   "source": [
    "df_merge_dropoffs.shape"
   ]
  },
  {
   "cell_type": "code",
   "execution_count": 836,
   "metadata": {},
   "outputs": [
    {
     "data": {
      "text/html": [
       "<div>\n",
       "<style scoped>\n",
       "    .dataframe tbody tr th:only-of-type {\n",
       "        vertical-align: middle;\n",
       "    }\n",
       "\n",
       "    .dataframe tbody tr th {\n",
       "        vertical-align: top;\n",
       "    }\n",
       "\n",
       "    .dataframe thead th {\n",
       "        text-align: right;\n",
       "    }\n",
       "</style>\n",
       "<table border=\"1\" class=\"dataframe\">\n",
       "  <thead>\n",
       "    <tr style=\"text-align: right;\">\n",
       "      <th></th>\n",
       "      <th>id_guest_anon</th>\n",
       "      <th>id_host_anon</th>\n",
       "      <th>id_listing_anon</th>\n",
       "      <th>ts_interaction_first</th>\n",
       "      <th>ts_reply_at_first</th>\n",
       "      <th>ts_accepted_at_first</th>\n",
       "      <th>ts_booking_at</th>\n",
       "      <th>ds_checkin_first</th>\n",
       "      <th>ds_checkout_first</th>\n",
       "      <th>m_guests</th>\n",
       "      <th>...</th>\n",
       "      <th>contact_channel_first</th>\n",
       "      <th>guest_user_stage_first</th>\n",
       "      <th>checkin_month</th>\n",
       "      <th>checkin_day</th>\n",
       "      <th>checkin_day_of_week</th>\n",
       "      <th>country</th>\n",
       "      <th>words_in_user_profile</th>\n",
       "      <th>room_type</th>\n",
       "      <th>listing_neighborhood</th>\n",
       "      <th>total_reviews</th>\n",
       "    </tr>\n",
       "  </thead>\n",
       "  <tbody>\n",
       "    <tr>\n",
       "      <th>1</th>\n",
       "      <td>8590d6f1-8bc9-4e8b-bdfb-de78f69fcf37</td>\n",
       "      <td>f30417c5-6df4-45ac-bfc2-6ad1cce398ab</td>\n",
       "      <td>e387c705-0aeb-464c-9375-ece63be6f006</td>\n",
       "      <td>2016-02-16 22:14:01</td>\n",
       "      <td>2016-02-16 23:37:36</td>\n",
       "      <td>NaT</td>\n",
       "      <td>NaT</td>\n",
       "      <td>2016-08-11</td>\n",
       "      <td>2016-08-22</td>\n",
       "      <td>5.0</td>\n",
       "      <td>...</td>\n",
       "      <td>contact_me</td>\n",
       "      <td>past_booker</td>\n",
       "      <td>8</td>\n",
       "      <td>11</td>\n",
       "      <td>3</td>\n",
       "      <td>FR</td>\n",
       "      <td>0</td>\n",
       "      <td>Entire home/apt</td>\n",
       "      <td>Copacabana</td>\n",
       "      <td>0.0</td>\n",
       "    </tr>\n",
       "    <tr>\n",
       "      <th>2</th>\n",
       "      <td>ebcd83ba-bda1-47eb-9680-2dd04ccf3988</td>\n",
       "      <td>13cbf50a-3272-45d4-9866-a06b6ea1b99a</td>\n",
       "      <td>d1eb1960-938f-4305-a353-51e224414dd4</td>\n",
       "      <td>2016-01-27 23:33:38</td>\n",
       "      <td>2016-01-28 02:12:47</td>\n",
       "      <td>NaT</td>\n",
       "      <td>NaT</td>\n",
       "      <td>2016-03-14</td>\n",
       "      <td>2016-03-23</td>\n",
       "      <td>1.0</td>\n",
       "      <td>...</td>\n",
       "      <td>contact_me</td>\n",
       "      <td>new</td>\n",
       "      <td>3</td>\n",
       "      <td>14</td>\n",
       "      <td>0</td>\n",
       "      <td>AR</td>\n",
       "      <td>0</td>\n",
       "      <td>Private room</td>\n",
       "      <td>Vidigal</td>\n",
       "      <td>49.0</td>\n",
       "    </tr>\n",
       "    <tr>\n",
       "      <th>5</th>\n",
       "      <td>25940fca-7aa9-480d-9cf0-56cc1136d30c</td>\n",
       "      <td>90334ef3-f489-45a0-89e0-d18d370e4a1c</td>\n",
       "      <td>5dd24057-774c-45b3-b305-ebf664246952</td>\n",
       "      <td>2016-04-19 07:08:21</td>\n",
       "      <td>2016-04-19 11:32:23</td>\n",
       "      <td>NaT</td>\n",
       "      <td>NaT</td>\n",
       "      <td>2016-04-26</td>\n",
       "      <td>2016-05-01</td>\n",
       "      <td>1.0</td>\n",
       "      <td>...</td>\n",
       "      <td>contact_me</td>\n",
       "      <td>new</td>\n",
       "      <td>4</td>\n",
       "      <td>26</td>\n",
       "      <td>1</td>\n",
       "      <td>BR</td>\n",
       "      <td>0</td>\n",
       "      <td>Entire home/apt</td>\n",
       "      <td>Copacabana</td>\n",
       "      <td>0.0</td>\n",
       "    </tr>\n",
       "    <tr>\n",
       "      <th>9</th>\n",
       "      <td>177cddfa-fe47-4668-81bf-884490a6707b</td>\n",
       "      <td>2bd81140-3d71-4fd9-add3-5998f9263c57</td>\n",
       "      <td>cff02e60-1205-42fa-afd4-0c23029ce32e</td>\n",
       "      <td>2016-04-26 02:11:47</td>\n",
       "      <td>2016-04-26 02:16:39</td>\n",
       "      <td>NaT</td>\n",
       "      <td>NaT</td>\n",
       "      <td>2016-08-12</td>\n",
       "      <td>2016-08-17</td>\n",
       "      <td>4.0</td>\n",
       "      <td>...</td>\n",
       "      <td>book_it</td>\n",
       "      <td>new</td>\n",
       "      <td>8</td>\n",
       "      <td>12</td>\n",
       "      <td>4</td>\n",
       "      <td>US</td>\n",
       "      <td>50</td>\n",
       "      <td>Entire home/apt</td>\n",
       "      <td>-unknown-</td>\n",
       "      <td>3.0</td>\n",
       "    </tr>\n",
       "    <tr>\n",
       "      <th>10</th>\n",
       "      <td>8cb51614-2851-4d3d-93a6-620556ace3de</td>\n",
       "      <td>7a7c50a7-2a19-44a7-ab5c-b2b658ebcf8b</td>\n",
       "      <td>472ead4a-63a3-422e-8c98-1745f773e2c0</td>\n",
       "      <td>2016-01-10 18:09:45</td>\n",
       "      <td>2016-01-11 15:19:22</td>\n",
       "      <td>NaT</td>\n",
       "      <td>NaT</td>\n",
       "      <td>2016-02-06</td>\n",
       "      <td>2016-02-09</td>\n",
       "      <td>4.0</td>\n",
       "      <td>...</td>\n",
       "      <td>contact_me</td>\n",
       "      <td>new</td>\n",
       "      <td>2</td>\n",
       "      <td>6</td>\n",
       "      <td>5</td>\n",
       "      <td>BR</td>\n",
       "      <td>0</td>\n",
       "      <td>Entire home/apt</td>\n",
       "      <td>Leme</td>\n",
       "      <td>3.0</td>\n",
       "    </tr>\n",
       "  </tbody>\n",
       "</table>\n",
       "<p>5 rows × 22 columns</p>\n",
       "</div>"
      ],
      "text/plain": [
       "                           id_guest_anon  \\\n",
       "1   8590d6f1-8bc9-4e8b-bdfb-de78f69fcf37   \n",
       "2   ebcd83ba-bda1-47eb-9680-2dd04ccf3988   \n",
       "5   25940fca-7aa9-480d-9cf0-56cc1136d30c   \n",
       "9   177cddfa-fe47-4668-81bf-884490a6707b   \n",
       "10  8cb51614-2851-4d3d-93a6-620556ace3de   \n",
       "\n",
       "                            id_host_anon  \\\n",
       "1   f30417c5-6df4-45ac-bfc2-6ad1cce398ab   \n",
       "2   13cbf50a-3272-45d4-9866-a06b6ea1b99a   \n",
       "5   90334ef3-f489-45a0-89e0-d18d370e4a1c   \n",
       "9   2bd81140-3d71-4fd9-add3-5998f9263c57   \n",
       "10  7a7c50a7-2a19-44a7-ab5c-b2b658ebcf8b   \n",
       "\n",
       "                         id_listing_anon ts_interaction_first  \\\n",
       "1   e387c705-0aeb-464c-9375-ece63be6f006  2016-02-16 22:14:01   \n",
       "2   d1eb1960-938f-4305-a353-51e224414dd4  2016-01-27 23:33:38   \n",
       "5   5dd24057-774c-45b3-b305-ebf664246952  2016-04-19 07:08:21   \n",
       "9   cff02e60-1205-42fa-afd4-0c23029ce32e  2016-04-26 02:11:47   \n",
       "10  472ead4a-63a3-422e-8c98-1745f773e2c0  2016-01-10 18:09:45   \n",
       "\n",
       "     ts_reply_at_first ts_accepted_at_first ts_booking_at ds_checkin_first  \\\n",
       "1  2016-02-16 23:37:36                  NaT           NaT       2016-08-11   \n",
       "2  2016-01-28 02:12:47                  NaT           NaT       2016-03-14   \n",
       "5  2016-04-19 11:32:23                  NaT           NaT       2016-04-26   \n",
       "9  2016-04-26 02:16:39                  NaT           NaT       2016-08-12   \n",
       "10 2016-01-11 15:19:22                  NaT           NaT       2016-02-06   \n",
       "\n",
       "   ds_checkout_first  m_guests      ...       contact_channel_first  \\\n",
       "1         2016-08-22       5.0      ...                  contact_me   \n",
       "2         2016-03-23       1.0      ...                  contact_me   \n",
       "5         2016-05-01       1.0      ...                  contact_me   \n",
       "9         2016-08-17       4.0      ...                     book_it   \n",
       "10        2016-02-09       4.0      ...                  contact_me   \n",
       "\n",
       "    guest_user_stage_first checkin_month checkin_day  checkin_day_of_week  \\\n",
       "1              past_booker             8          11                    3   \n",
       "2                      new             3          14                    0   \n",
       "5                      new             4          26                    1   \n",
       "9                      new             8          12                    4   \n",
       "10                     new             2           6                    5   \n",
       "\n",
       "    country  words_in_user_profile        room_type  listing_neighborhood  \\\n",
       "1        FR                      0  Entire home/apt            Copacabana   \n",
       "2        AR                      0     Private room               Vidigal   \n",
       "5        BR                      0  Entire home/apt            Copacabana   \n",
       "9        US                     50  Entire home/apt             -unknown-   \n",
       "10       BR                      0  Entire home/apt                  Leme   \n",
       "\n",
       "   total_reviews  \n",
       "1            0.0  \n",
       "2           49.0  \n",
       "5            0.0  \n",
       "9            3.0  \n",
       "10           3.0  \n",
       "\n",
       "[5 rows x 22 columns]"
      ]
     },
     "execution_count": 836,
     "metadata": {},
     "output_type": "execute_result"
    }
   ],
   "source": [
    "df_host_rejected_dropoffs.head()"
   ]
  },
  {
   "cell_type": "code",
   "execution_count": 837,
   "metadata": {},
   "outputs": [
    {
     "data": {
      "text/plain": [
       "contact_me    7392\n",
       "book_it       4133\n",
       "Name: contact_channel_first, dtype: int64"
      ]
     },
     "execution_count": 837,
     "metadata": {},
     "output_type": "execute_result"
    }
   ],
   "source": [
    "df_host_rejected_dropoffs['contact_channel_first'].value_counts()"
   ]
  },
  {
   "cell_type": "code",
   "execution_count": 838,
   "metadata": {},
   "outputs": [
    {
     "data": {
      "text/plain": [
       "new            7299\n",
       "past_booker    4209\n",
       "-unknown-        17\n",
       "Name: guest_user_stage_first, dtype: int64"
      ]
     },
     "execution_count": 838,
     "metadata": {},
     "output_type": "execute_result"
    }
   ],
   "source": [
    "df_host_rejected_dropoffs['guest_user_stage_first'].value_counts()"
   ]
  },
  {
   "cell_type": "code",
   "execution_count": 839,
   "metadata": {},
   "outputs": [
    {
     "data": {
      "text/plain": [
       "8     5118\n",
       "2     2807\n",
       "3      631\n",
       "4      578\n",
       "7      565\n",
       "1      486\n",
       "5      473\n",
       "12     364\n",
       "6      338\n",
       "9       94\n",
       "10      55\n",
       "11      16\n",
       "Name: checkin_month, dtype: int64"
      ]
     },
     "execution_count": 839,
     "metadata": {},
     "output_type": "execute_result"
    }
   ],
   "source": [
    "df_host_rejected_dropoffs['checkin_month'].value_counts()"
   ]
  },
  {
   "cell_type": "code",
   "execution_count": 840,
   "metadata": {},
   "outputs": [
    {
     "data": {
      "text/plain": [
       "Entire home/apt    8921\n",
       "Private room       2337\n",
       "Shared room         267\n",
       "Name: room_type, dtype: int64"
      ]
     },
     "execution_count": 840,
     "metadata": {},
     "output_type": "execute_result"
    }
   ],
   "source": [
    "df_host_rejected_dropoffs['room_type'].value_counts()"
   ]
  },
  {
   "cell_type": "code",
   "execution_count": 845,
   "metadata": {},
   "outputs": [
    {
     "data": {
      "text/plain": [
       "-unknown-          5476\n",
       "Copacabana         2428\n",
       "Ipanema            1152\n",
       "Barra da Tijuca     434\n",
       "Leblon              410\n",
       "Name: listing_neighborhood, dtype: int64"
      ]
     },
     "execution_count": 845,
     "metadata": {},
     "output_type": "execute_result"
    }
   ],
   "source": [
    "df_host_rejected_dropoffs['listing_neighborhood'].value_counts()[:5]"
   ]
  }
 ],
 "metadata": {
  "kernelspec": {
   "display_name": "Python 3",
   "language": "python",
   "name": "python3"
  },
  "language_info": {
   "codemirror_mode": {
    "name": "ipython",
    "version": 3
   },
   "file_extension": ".py",
   "mimetype": "text/x-python",
   "name": "python",
   "nbconvert_exporter": "python",
   "pygments_lexer": "ipython3",
   "version": "3.6.5"
  }
 },
 "nbformat": 4,
 "nbformat_minor": 2
}
